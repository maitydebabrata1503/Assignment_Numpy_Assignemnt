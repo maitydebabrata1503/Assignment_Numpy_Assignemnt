{
 "cells": [
  {
   "cell_type": "code",
   "execution_count": 2,
   "id": "da906f3f-d751-459f-b36d-d5fd0de1cedc",
   "metadata": {},
   "outputs": [],
   "source": [
    "import numpy as np\n",
    "import pandas as pd"
   ]
  },
  {
   "cell_type": "code",
   "execution_count": 6,
   "id": "33ff6223-223d-4237-9d9b-6e60b84b9ac3",
   "metadata": {},
   "outputs": [
    {
     "data": {
      "text/plain": [
       "dtype('int64')"
      ]
     },
     "execution_count": 6,
     "metadata": {},
     "output_type": "execute_result"
    }
   ],
   "source": [
    "# 1. Create a NumPy array 'arr' of integers from 0 to 5 and print its data type.\n",
    "\n",
    "arr = np.array([0,1,2,3,4,5])\n",
    "arr.dtype"
   ]
  },
  {
   "cell_type": "code",
   "execution_count": 7,
   "id": "501bf142-2f02-4868-98c5-18113b2cbe67",
   "metadata": {},
   "outputs": [
    {
     "name": "stdout",
     "output_type": "stream",
     "text": [
      "yes\n"
     ]
    }
   ],
   "source": [
    "# 2. Given a NumPy array 'arr', check if its data type is float64. arr = np.array([1.5, 2.6, 3.7])\n",
    "\n",
    "arr = np.array([1.5, 2.6, 3.7])\n",
    "print(\"yes\" if arr.dtype == \"float64\" else \"no\")"
   ]
  },
  {
   "cell_type": "code",
   "execution_count": 10,
   "id": "9ed415f1-6c98-412f-b116-586de6ca7856",
   "metadata": {},
   "outputs": [
    {
     "data": {
      "text/plain": [
       "(array([2.+5.j, 8.-6.j, 4.+3.j]), dtype('complex128'))"
      ]
     },
     "execution_count": 10,
     "metadata": {},
     "output_type": "execute_result"
    }
   ],
   "source": [
    "# 3. Create a NumPy array 'arr' with a data type of complex128 containing three complex numbers.\n",
    "\n",
    "arr = np.array([2+5j,8-6j,4+3j])\n",
    "arr,arr.dtype"
   ]
  },
  {
   "cell_type": "code",
   "execution_count": 15,
   "id": "84a64738-65bd-4d24-951f-8e2786780555",
   "metadata": {},
   "outputs": [
    {
     "data": {
      "text/plain": [
       "dtype('float32')"
      ]
     },
     "execution_count": 15,
     "metadata": {},
     "output_type": "execute_result"
    }
   ],
   "source": [
    "# 4. Convert an existing NumPy array 'arr' of integers to float32 data type.\n",
    "\n",
    "arr = np.array([0,1,2,3,4,5])\n",
    "arr = arr.astype('float32')\n",
    "arr.dtype"
   ]
  },
  {
   "cell_type": "code",
   "execution_count": 16,
   "id": "6abaaaae-3bef-4a3c-8168-b743f424f385",
   "metadata": {},
   "outputs": [
    {
     "data": {
      "text/plain": [
       "dtype('float32')"
      ]
     },
     "execution_count": 16,
     "metadata": {},
     "output_type": "execute_result"
    }
   ],
   "source": [
    "# 5. Given a NumPy array 'arr' with float64 data type, convert it to float32 to reduce decimal precision.\n",
    "\n",
    "arr = np.array([1.5, 2.6, 3.7])\n",
    "arr = arr.astype(\"float32\")\n",
    "arr.dtype"
   ]
  },
  {
   "cell_type": "code",
   "execution_count": 20,
   "id": "c2dbf51d-89af-4b80-8f51-de890b33bc36",
   "metadata": {},
   "outputs": [
    {
     "name": "stdout",
     "output_type": "stream",
     "text": [
      "The shape of the array is : (3, 4), size of the array is : 12, data type of the array is : float64\n"
     ]
    }
   ],
   "source": [
    "# 6. Write a function array_attributes that takes a NumPy array as input and returns its shape, size, and datatype.\n",
    "\n",
    "def array_attributes(arr):\n",
    "    return (arr.shape,arr.size,arr.dtype)\n",
    "\n",
    "arr = np.linspace(2,9,12)\n",
    "arr = arr.reshape(3,4)\n",
    "shape, size, data_type = array_attributes(arr)\n",
    "print(f\"The shape of the array is : {shape}, size of the array is : {size}, data type of the array is : {data_type}\")"
   ]
  },
  {
   "cell_type": "code",
   "execution_count": 21,
   "id": "8797a5cd-3ebc-4bc5-8d8c-94d8c2fe4598",
   "metadata": {},
   "outputs": [
    {
     "name": "stdout",
     "output_type": "stream",
     "text": [
      "The dimension of this numpy array is : 3\n"
     ]
    }
   ],
   "source": [
    "# 7. Create a function array_dimension that takes a NumPy array as input and returns its dimensionality.\n",
    "\n",
    "def array_dimension(arr):\n",
    "    return arr.ndim\n",
    "\n",
    "arr = np.linspace(2,9,12)\n",
    "arr = arr.reshape(2,2,3)\n",
    "print(\"The dimension of this numpy array is :\", array_dimension(arr)) "
   ]
  },
  {
   "cell_type": "code",
   "execution_count": 35,
   "id": "9a77eca5-f8e5-433a-b37e-2127120a1659",
   "metadata": {},
   "outputs": [
    {
     "name": "stdout",
     "output_type": "stream",
     "text": [
      "The size of the array is : 12\n",
      "bytecode of total array is : b'\\x00\\x00\\x00\\x00\\x00\\x00\\x00@\\x17]t\\xd1E\\x17\\x05@.\\xba\\xe8\\xa2\\x8b.\\n@F\\x17]t\\xd1E\\x0f@.\\xba\\xe8\\xa2\\x8b.\\x12@\\xba\\xe8\\xa2\\x8b.\\xba\\x14@F\\x17]t\\xd1E\\x17@\\xd1E\\x17]t\\xd1\\x19@]t\\xd1E\\x17]\\x1c@\\xe9\\xa2\\x8b.\\xba\\xe8\\x1e@\\xba\\xe8\\xa2\\x8b.\\xba @\\x00\\x00\\x00\\x00\\x00\\x00\"@'\n"
     ]
    }
   ],
   "source": [
    "# 8. Design a function item_size_info that takes a NumPy array as input and returns the item size and the total size in bytes.\n",
    "\n",
    "def item_size_info(arr):\n",
    "    return arr.size, arr.tobytes()\n",
    "\n",
    "arr = np.linspace(2,9,12)\n",
    "arr = arr.reshape(3,4)\n",
    "size, bytecode = item_size_info(arr)\n",
    "print(f\"The size of the array is : {size}\")\n",
    "print(f\"bytecode of total array is : {bytecode}\")"
   ]
  },
  {
   "cell_type": "code",
   "execution_count": 39,
   "id": "37748425-229c-47a9-9bcd-2d62c919e3a7",
   "metadata": {},
   "outputs": [
    {
     "name": "stdout",
     "output_type": "stream",
     "text": [
      "The strides of this array is : (48, 24, 8)\n"
     ]
    }
   ],
   "source": [
    "# 9. Create a function array_strides that takes a NumPy array as input and returns the strides of the array.\n",
    "\n",
    "def array_strides(arr):\n",
    "    return arr.strides\n",
    "\n",
    "arr = np.linspace(2,9,12)\n",
    "arr = arr.reshape(2,2,3)\n",
    "print(\"The strides of this array is :\",array_strides(arr))"
   ]
  },
  {
   "cell_type": "code",
   "execution_count": 3,
   "id": "73be8926-b33d-49aa-870b-a5e48c8d175b",
   "metadata": {},
   "outputs": [
    {
     "name": "stdout",
     "output_type": "stream",
     "text": [
      "The size of this array is : (2, 2, 3)\n",
      "The strides of this array is : (48, 24, 8)\n"
     ]
    }
   ],
   "source": [
    "# 10. Design a function shape_stride_relationship that takes a NumPy array as input and returns the shape and strides of the array.\n",
    "\n",
    "def shape_stride_relationship(arr):\n",
    "    return arr.shape,arr.strides\n",
    "\n",
    "arr = np.linspace(2,9,12)\n",
    "arr = arr.reshape(2,2,3)\n",
    "size, strides = shape_stride_relationship(arr)\n",
    "print(\"The size of this array is :\",size)\n",
    "print(\"The strides of this array is :\",strides)"
   ]
  },
  {
   "cell_type": "code",
   "execution_count": 7,
   "id": "bd343741-8883-429a-b1cf-1fc050cdff02",
   "metadata": {},
   "outputs": [
    {
     "data": {
      "text/plain": [
       "array([0., 0., 0., 0., 0.])"
      ]
     },
     "execution_count": 7,
     "metadata": {},
     "output_type": "execute_result"
    }
   ],
   "source": [
    "# 11. Create a function `create_zeros_array` that takes an integer `n` as input and returns a NumPy array of zeros with `n` elements.\n",
    "\n",
    "def create_zeros_array(n):\n",
    "    return np.zeros(n)\n",
    "\n",
    "create_zeros_array(5)"
   ]
  },
  {
   "cell_type": "code",
   "execution_count": 8,
   "id": "07859820-03d5-4512-8e7d-3c45797c8fea",
   "metadata": {},
   "outputs": [
    {
     "data": {
      "text/plain": [
       "array([[1., 1., 1., 1., 1.],\n",
       "       [1., 1., 1., 1., 1.],\n",
       "       [1., 1., 1., 1., 1.],\n",
       "       [1., 1., 1., 1., 1.]])"
      ]
     },
     "execution_count": 8,
     "metadata": {},
     "output_type": "execute_result"
    }
   ],
   "source": [
    "# 12. Write a function `create_ones_matrix` that takes integers `rows` and `cols` as inputs and generates a 2D \n",
    "# NumPy array filled with ones of size `rows x cols`.\n",
    "\n",
    "def create_zeros_array(rows,cols):\n",
    "    return np.ones((rows,cols))\n",
    "\n",
    "create_zeros_array(4,5)"
   ]
  },
  {
   "cell_type": "code",
   "execution_count": 10,
   "id": "1d7d971b-b973-47ee-b76c-65dbdbf20f01",
   "metadata": {},
   "outputs": [
    {
     "data": {
      "text/plain": [
       "array([ 1,  3,  5,  7,  9, 11, 13, 15, 17, 19])"
      ]
     },
     "execution_count": 10,
     "metadata": {},
     "output_type": "execute_result"
    }
   ],
   "source": [
    "# 13. Write a function `generate_range_array` that takes three integers start, stop, and step as arguments and\n",
    "# creates a NumPy array with a range starting from `start`, ending at stop (exclusive), and with the specified `step`.\n",
    "\n",
    "def generate_range_array(start,stop,step):\n",
    "    return np.arange(start,stop,step)\n",
    "    \n",
    "generate_range_array(1,20,2)"
   ]
  },
  {
   "cell_type": "code",
   "execution_count": 13,
   "id": "6846fa0b-a936-418c-8203-deb99092564a",
   "metadata": {},
   "outputs": [
    {
     "data": {
      "text/plain": [
       "array([ 1.        ,  2.72727273,  4.45454545,  6.18181818,  7.90909091,\n",
       "        9.63636364, 11.36363636, 13.09090909, 14.81818182, 16.54545455,\n",
       "       18.27272727, 20.        ])"
      ]
     },
     "execution_count": 13,
     "metadata": {},
     "output_type": "execute_result"
    }
   ],
   "source": [
    "# 14. Design a function `generate_linear_space` that takes two floats `start`, `stop`, and an integer `num` as\n",
    "# arguments and generates a NumPy array with num equally spaced values between `start` and `stop` (inclusive).\n",
    "\n",
    "def generate_linear_space(start,stop,num):\n",
    "    return np.linspace(start,stop,num)\n",
    "\n",
    "generate_linear_space(1,20,12)"
   ]
  },
  {
   "cell_type": "code",
   "execution_count": 14,
   "id": "48ba4318-6fa1-4461-824e-f5e16536f228",
   "metadata": {},
   "outputs": [
    {
     "data": {
      "text/plain": [
       "array([[1., 0., 0., 0., 0.],\n",
       "       [0., 1., 0., 0., 0.],\n",
       "       [0., 0., 1., 0., 0.],\n",
       "       [0., 0., 0., 1., 0.],\n",
       "       [0., 0., 0., 0., 1.]])"
      ]
     },
     "execution_count": 14,
     "metadata": {},
     "output_type": "execute_result"
    }
   ],
   "source": [
    "# 15. Create a function `create_identity_matrix` that takes an integer `n` as input and generates a square \n",
    "# identity matrix of size `n x n` using `numpy.eye`.\n",
    "\n",
    "def create_identity_matrix(n):\n",
    "    return np.eye(n)\n",
    "\n",
    "create_identity_matrix(5)"
   ]
  },
  {
   "cell_type": "code",
   "execution_count": 15,
   "id": "13b6a9ca-82ec-4148-a090-b21a97256339",
   "metadata": {},
   "outputs": [
    {
     "data": {
      "text/plain": [
       "array([2, 3, 4, 5, 6])"
      ]
     },
     "execution_count": 15,
     "metadata": {},
     "output_type": "execute_result"
    }
   ],
   "source": [
    "# 16. Write a function that takes a Python list and converts it into a NumPy array.\n",
    "\n",
    "def to_array(lis):\n",
    "    return np.array(lis)\n",
    "\n",
    "to_array([2,3,4,5,6])"
   ]
  },
  {
   "cell_type": "code",
   "execution_count": 28,
   "id": "d85a7a55-5ba5-4588-8fbb-cc71e9f1eb45",
   "metadata": {},
   "outputs": [
    {
     "data": {
      "text/plain": [
       "(array([2, 3, 1, 5, 6]), array([2, 3, 1, 5, 6]))"
      ]
     },
     "execution_count": 28,
     "metadata": {},
     "output_type": "execute_result"
    }
   ],
   "source": [
    "# 17. Create a NumPy array and demonstrate the use of `numpy.view` to create a new array object with the same data.\n",
    "\n",
    "arr1 = np.array([2, 3, 4, 5, 7])\n",
    "arr2 = arr1.view()\n",
    "arr2[2] = 1\n",
    "arr1[4] = 6\n",
    "arr2,arr1"
   ]
  },
  {
   "cell_type": "code",
   "execution_count": 15,
   "id": "71e90a62-cb75-48a8-a08f-620c93e53541",
   "metadata": {},
   "outputs": [
    {
     "name": "stdin",
     "output_type": "stream",
     "text": [
      "enter the axis 0 or 1 :  1\n"
     ]
    },
    {
     "name": "stdout",
     "output_type": "stream",
     "text": [
      "The concatenation on axis 1 is :\n",
      " [[4 7 2]\n",
      " [1 6 3]]\n"
     ]
    }
   ],
   "source": [
    "# 18. Write a function that takes two NumPy arrays and concatenates them along a specified axis.\n",
    "\n",
    "def array_concatenation(arr1,arr2,axs):\n",
    "    if axs==0: return np.concatenate((arr1,arr2),axis = 0)\n",
    "    elif axs==1: return np.concatenate((arr1,arr2.T),axis = 1)\n",
    "    else: return \"invalid\"\n",
    "\n",
    "arr1 = np.array([[4, 7],[1, 6]])\n",
    "arr2 = np.array([[2,3]])\n",
    "specified_axis = int(input(\"enter the axis 0 or 1 : \"))\n",
    "print(f\"The concatenation on axis {specified_axis} is :\\n\",array_concatenation(arr1,arr2,specified_axis))"
   ]
  },
  {
   "cell_type": "code",
   "execution_count": null,
   "id": "beea3267-8611-471b-945a-ac419bf0f021",
   "metadata": {},
   "outputs": [],
   "source": [
    "# 19. Create two NumPy arrays with different shapes and concatenate them horizontally using `numpy concatenate`.\n",
    "\n",
    "def horizontal_concatenation(arr1,arr2):\n",
    "    return np.concatenate((arr1,arr2.T),axis = 1)\n",
    "\n",
    "arr1 = np.array([[4, 7],[1, 6]])\n",
    "arr2 = np.array([[2,3]])\n",
    "print(\"horizontal concatenation :\",array_concatenation(arr1,arr2))"
   ]
  },
  {
   "cell_type": "code",
   "execution_count": 6,
   "id": "fbd9b551-c6d9-4064-99cc-1fec387c0a7c",
   "metadata": {},
   "outputs": [
    {
     "data": {
      "text/plain": [
       "array([[2, 3],\n",
       "       [4, 5],\n",
       "       [7, 8]])"
      ]
     },
     "execution_count": 6,
     "metadata": {},
     "output_type": "execute_result"
    }
   ],
   "source": [
    "# 20. Write a function that vertically stacks multiple NumPy arrays given as a list.\n",
    "\n",
    "def vertically_stacks(*lis):\n",
    "    if len(lis)==0: return \"invalid\"\n",
    "    if len(lis)==1:return np.array(lis[0]) \n",
    "    arr = np.concatenate((np.array(lis[0]),np.array(lis[1])),axis = 0)\n",
    "    for i in range(2,len(lis)):\n",
    "        arr = np.concatenate((arr,np.array(lis[i])),axis = 0)\n",
    "    return arr\n",
    "\n",
    "vertically_stacks([[2,3]],[[4,5]],[[7,8]])"
   ]
  },
  {
   "cell_type": "code",
   "execution_count": 9,
   "id": "f290a309-ec51-4543-970a-12110f0ace4e",
   "metadata": {},
   "outputs": [
    {
     "data": {
      "text/plain": [
       "array([ 0,  2,  4,  6,  8, 10, 12, 14, 16, 18, 20])"
      ]
     },
     "execution_count": 9,
     "metadata": {},
     "output_type": "execute_result"
    }
   ],
   "source": [
    "# 21. Write a Python function using NumPy to create an array of integers within a specified range (inclusive) with a given step size.\n",
    "\n",
    "def range_array(start,stop,step):\n",
    "    return np.arange(start,stop+1,step)\n",
    "\n",
    "range_array(0,20,2)"
   ]
  },
  {
   "cell_type": "code",
   "execution_count": 10,
   "id": "00131d4b-651b-4338-b9ec-480b1cac89e6",
   "metadata": {},
   "outputs": [
    {
     "data": {
      "text/plain": [
       "array([0.        , 0.11111111, 0.22222222, 0.33333333, 0.44444444,\n",
       "       0.55555556, 0.66666667, 0.77777778, 0.88888889, 1.        ])"
      ]
     },
     "execution_count": 10,
     "metadata": {},
     "output_type": "execute_result"
    }
   ],
   "source": [
    "# 22. Write a Python function using NumPy to generate an array of 10 equally spaced values between 0 and 1 (inclusive).\n",
    "\n",
    "def equally_spaced_values():\n",
    "    return np.linspace(0,1,10)\n",
    "\n",
    "equally_spaced_values()"
   ]
  },
  {
   "cell_type": "code",
   "execution_count": 15,
   "id": "1918ccc2-09a9-452c-8e5d-91f4995baf52",
   "metadata": {},
   "outputs": [
    {
     "data": {
      "text/plain": [
       "array([   1.        ,    5.62341325,   31.6227766 ,  177.827941  ,\n",
       "       1000.        ])"
      ]
     },
     "execution_count": 15,
     "metadata": {},
     "output_type": "execute_result"
    }
   ],
   "source": [
    "# 23. Write a Python function using NumPy to create an array of 5 logarithmically spaced values between 1 and 1000 (inclusive).\n",
    "\n",
    "def logarithmically_spaced_values():\n",
    "    return np.logspace(0,3,5)\n",
    "\n",
    "logarithmically_spaced_values()"
   ]
  },
  {
   "cell_type": "code",
   "execution_count": 8,
   "id": "ce23e5b4-5efe-46db-abeb-85efb5bcb0ea",
   "metadata": {},
   "outputs": [
    {
     "data": {
      "text/html": [
       "<div>\n",
       "<style scoped>\n",
       "    .dataframe tbody tr th:only-of-type {\n",
       "        vertical-align: middle;\n",
       "    }\n",
       "\n",
       "    .dataframe tbody tr th {\n",
       "        vertical-align: top;\n",
       "    }\n",
       "\n",
       "    .dataframe thead th {\n",
       "        text-align: right;\n",
       "    }\n",
       "</style>\n",
       "<table border=\"1\" class=\"dataframe\">\n",
       "  <thead>\n",
       "    <tr style=\"text-align: right;\">\n",
       "      <th></th>\n",
       "      <th>key1</th>\n",
       "      <th>key2</th>\n",
       "      <th>key3</th>\n",
       "    </tr>\n",
       "  </thead>\n",
       "  <tbody>\n",
       "    <tr>\n",
       "      <th>0</th>\n",
       "      <td>35</td>\n",
       "      <td>87</td>\n",
       "      <td>92</td>\n",
       "    </tr>\n",
       "    <tr>\n",
       "      <th>1</th>\n",
       "      <td>85</td>\n",
       "      <td>99</td>\n",
       "      <td>25</td>\n",
       "    </tr>\n",
       "    <tr>\n",
       "      <th>2</th>\n",
       "      <td>81</td>\n",
       "      <td>6</td>\n",
       "      <td>41</td>\n",
       "    </tr>\n",
       "    <tr>\n",
       "      <th>3</th>\n",
       "      <td>3</td>\n",
       "      <td>43</td>\n",
       "      <td>72</td>\n",
       "    </tr>\n",
       "    <tr>\n",
       "      <th>4</th>\n",
       "      <td>24</td>\n",
       "      <td>41</td>\n",
       "      <td>38</td>\n",
       "    </tr>\n",
       "  </tbody>\n",
       "</table>\n",
       "</div>"
      ],
      "text/plain": [
       "   key1  key2  key3\n",
       "0    35    87    92\n",
       "1    85    99    25\n",
       "2    81     6    41\n",
       "3     3    43    72\n",
       "4    24    41    38"
      ]
     },
     "execution_count": 8,
     "metadata": {},
     "output_type": "execute_result"
    }
   ],
   "source": [
    "# 24. Create a Pandas DataFrame using a NumPy array that contains 5 rows and 3 columns, where the values are random integers between 1 \n",
    "# and 100.\n",
    "\n",
    "arr = np.random.randint(1,100,size = (5,3))\n",
    "df = pd.DataFrame(arr,columns = ['key1','key2','key3'])\n",
    "df"
   ]
  },
  {
   "cell_type": "code",
   "execution_count": 14,
   "id": "16d39a54-330b-45b1-8d84-7797ff3b139d",
   "metadata": {},
   "outputs": [
    {
     "name": "stdout",
     "output_type": "stream",
     "text": [
      "mean :  2.05\n",
      "median :  0.0\n",
      "variance :  6.9475\n",
      "standard deviation :  2.6358110706194404\n",
      "first quartile :  [0.]\n",
      "third quartile :  [4.25]\n"
     ]
    }
   ],
   "source": [
    "# 25. Write a function that takes a Pandas DataFrame and replaces all negative values in a specific column \n",
    "# with zeros. Use NumPy operations within the Pandas DataFrame.\n",
    "\n",
    "def replaces(cx):\n",
    "    cx.data[cx.data<0] = 0\n",
    "    \n",
    "df = pd.DataFrame({ \"data\" : np.random.randint(-10,11,size = 20)})\n",
    "replaces(df)\n",
    "print(\"mean : \",np.mean(df.data))\n",
    "print(\"median : \",np.median(df.data))\n",
    "print(\"variance : \",np.var(df.data))\n",
    "print(\"standard deviation : \",np.std(df.data))\n",
    "print(\"first quartile : \",np.percentile(df.data,[25]))\n",
    "print(\"third quartile : \",np.percentile(df.data,[75]))"
   ]
  },
  {
   "cell_type": "code",
   "execution_count": 10,
   "id": "1b610695-b55d-488e-aed2-df588c050298",
   "metadata": {},
   "outputs": [
    {
     "name": "stdout",
     "output_type": "stream",
     "text": [
      "30\n"
     ]
    }
   ],
   "source": [
    "# 26. Access the 3rd element from the given NumPy array. arr = np.array([10, 20, 30, 40, 50])\n",
    "\n",
    "arr = np.array([10, 20, 30, 40, 50])\n",
    "print(arr[2])"
   ]
  },
  {
   "cell_type": "code",
   "execution_count": 12,
   "id": "c2201434-114c-421b-962f-b044b4f30b95",
   "metadata": {},
   "outputs": [
    {
     "data": {
      "text/plain": [
       "6"
      ]
     },
     "execution_count": 12,
     "metadata": {},
     "output_type": "execute_result"
    }
   ],
   "source": [
    "# 27. Retrieve the element at index (1, 2) from the 2D NumPy array. arr_2d = np.array([[1, 2, 3],[4, 5, 6],[7, 8, 9]])\n",
    "\n",
    "arr_2d = np.array([[1, 2, 3],[4, 5, 6],[7, 8, 9]])\n",
    "arr_2d[1][2]"
   ]
  },
  {
   "cell_type": "code",
   "execution_count": 13,
   "id": "0d86c32f-cb05-4b4b-932e-e045d432d91d",
   "metadata": {},
   "outputs": [
    {
     "data": {
      "text/plain": [
       "array([ 8, 10,  7])"
      ]
     },
     "execution_count": 13,
     "metadata": {},
     "output_type": "execute_result"
    }
   ],
   "source": [
    "# 28. Using boolean indexing, extract elements greater than 5 from the given NumPy array. arr = np.array([3, 8, 2, 10, 5, 7])\n",
    "\n",
    "arr = np.array([3, 8, 2, 10, 5, 7])\n",
    "np.extract(arr>5,arr)"
   ]
  },
  {
   "cell_type": "code",
   "execution_count": 14,
   "id": "d7fd6fa5-b4e1-48cd-b9a6-cb41ba69fdf8",
   "metadata": {},
   "outputs": [
    {
     "data": {
      "text/plain": [
       "array([3, 4, 5, 6])"
      ]
     },
     "execution_count": 14,
     "metadata": {},
     "output_type": "execute_result"
    }
   ],
   "source": [
    "# 29. Perform basic slicing to extract elements from index 2 to 5 (inclusive) from the given NumPy array. \n",
    "# arr = np.array([1, 2, 3, 4, 5, 6, 7, 8, 9])\n",
    "\n",
    "arr = np.array([1, 2, 3, 4, 5, 6, 7, 8, 9])\n",
    "arr[2:6]"
   ]
  },
  {
   "cell_type": "code",
   "execution_count": 20,
   "id": "099b2f67-8dc5-45c8-a217-5f169aa6a19e",
   "metadata": {},
   "outputs": [
    {
     "data": {
      "text/plain": [
       "array([[2, 3],\n",
       "       [5, 6]])"
      ]
     },
     "execution_count": 20,
     "metadata": {},
     "output_type": "execute_result"
    }
   ],
   "source": [
    "# 30. Slice the 2D NumPy array to extract the sub-array `[[2, 3], [5, 6]]` from the given array. \n",
    "#arr_2d = np.array([[1, 2, 3],[4, 5, 6],[7, 8, 9]])\n",
    "\n",
    "arr_2d = np.array([[1, 2, 3],[4, 5, 6],[7, 8, 9]])\n",
    "arr_2d[0:2,1:3]"
   ]
  },
  {
   "cell_type": "code",
   "execution_count": 17,
   "id": "1bfbf57e-c793-4ea8-87a5-6fd4540334fd",
   "metadata": {},
   "outputs": [
    {
     "name": "stdout",
     "output_type": "stream",
     "text": [
      "[3 4 8]\n"
     ]
    }
   ],
   "source": [
    "# 31.Write a NumPy function to extract elements in specific order from a given 2D array based on indices provided in another array\n",
    "\n",
    "def extract_elements(arr, indices):\n",
    "    row_indices, col_indices = indices[:, 0], indices[:, 1]\n",
    "    extracted_elements = arr[row_indices, col_indices]\n",
    "    return extracted_elements\n",
    "\n",
    "\n",
    "arr = np.array([[1, 2, 3],\n",
    "                [4, 5, 6],\n",
    "                [7, 8, 9]])\n",
    "indices = np.array([[0, 2],\n",
    "                    [1, 0],\n",
    "                    [2, 1]])\n",
    "extracted = extract_elements(arr, indices)\n",
    "print(extracted)"
   ]
  },
  {
   "cell_type": "code",
   "execution_count": 6,
   "id": "5ced852e-ea03-4162-8a1b-8f48a506e486",
   "metadata": {},
   "outputs": [
    {
     "name": "stdin",
     "output_type": "stream",
     "text": [
      "enter the array elements:  0 1 2 3 4 5 6 7 8 9\n",
      "enter the threshold value :  4\n"
     ]
    },
    {
     "data": {
      "text/plain": [
       "array([5, 6, 7, 8, 9])"
      ]
     },
     "execution_count": 6,
     "metadata": {},
     "output_type": "execute_result"
    }
   ],
   "source": [
    "# 32. Create a NumPy function that filters elements greater than a threshold from a given 1D array using boolean indexing.\n",
    "\n",
    "def greater_threshold(arr,threshold):\n",
    "    return np.extract(arr>threshold,arr)\n",
    "\n",
    "arr = np.array(list(map(int,input(\"enter the array elements: \").strip().split())))\n",
    "threshold = int(input(\"enter the threshold value : \"))\n",
    "greater_threshold(arr,threshold)"
   ]
  },
  {
   "cell_type": "code",
   "execution_count": 23,
   "id": "4648d7d8-c648-4515-99a7-4442da614d3d",
   "metadata": {},
   "outputs": [
    {
     "data": {
      "text/plain": [
       "array([4, 7, 4])"
      ]
     },
     "execution_count": 23,
     "metadata": {},
     "output_type": "execute_result"
    }
   ],
   "source": [
    "# 33. Develop a NumPy function that extracts specific elements from a 3D array using indices provided in three separate arrays for each\n",
    "# dimension.\n",
    "\n",
    "def arr3d_extract(arr3d,*index_arr):\n",
    "    return arr3d[index_arr[0],index_arr[1],index_arr[2]]\n",
    "\n",
    "arr3d = np.random.randint(1,9,size = (3,4,5))\n",
    "first = [2,0,1]\n",
    "second = [3,1,0]\n",
    "third = [4,2,3]\n",
    "arr3d_extract(arr3d,first,second,third)"
   ]
  },
  {
   "cell_type": "code",
   "execution_count": 10,
   "id": "752c376c-0e1b-470b-a309-0d90e98f42e1",
   "metadata": {},
   "outputs": [
    {
     "data": {
      "text/plain": [
       "array([10, 12, 13,  7,  9, 13,  8])"
      ]
     },
     "execution_count": 10,
     "metadata": {},
     "output_type": "execute_result"
    }
   ],
   "source": [
    "# 34. Write a NumPy function that returns elements from an array where both two conditions are satisfied using boolean indexing.\n",
    "\n",
    "def two_conditions(arr):\n",
    "    return arr[(arr>5) & (arr<15)]\n",
    "\n",
    "arr = np.random.randint(1,20,size = (10,))\n",
    "two_conditions(arr)"
   ]
  },
  {
   "cell_type": "code",
   "execution_count": 25,
   "id": "0c92ee97-bf8e-4a4f-a375-f449ec917002",
   "metadata": {},
   "outputs": [
    {
     "data": {
      "text/plain": [
       "array([5, 6])"
      ]
     },
     "execution_count": 25,
     "metadata": {},
     "output_type": "execute_result"
    }
   ],
   "source": [
    "# 35. Create a NumPy function that extracts elements from a 2D array using row and column indices provided in separate arrays.\n",
    "\n",
    "def arr2d_extract(arr2d,*index_arr):\n",
    "    return arr2d[index_arr[:][0],index_arr[:][1]]\n",
    "\n",
    "arr2d = np.random.randint(1,9,size = (4,5))\n",
    "first = [1,3]\n",
    "second = [0,4]\n",
    "third = [2,1]\n",
    "arr2d_extract(arr2d,first,second,third)"
   ]
  },
  {
   "cell_type": "code",
   "execution_count": 16,
   "id": "25ee56ce-c2ae-46c6-8c76-123091848564",
   "metadata": {},
   "outputs": [
    {
     "name": "stdout",
     "output_type": "stream",
     "text": [
      "before broadcast :\n",
      " [[12 19  3]\n",
      " [ 5 15  9]\n",
      " [12  1 10]]\n",
      "after broadcast :\n",
      " [[17 24  8]\n",
      " [10 20 14]\n",
      " [17  6 15]]\n"
     ]
    }
   ],
   "source": [
    "# 36. Given an array arr of shape (3, 3), add a scalar value of 5 to each element using NumPy broadcasting.\n",
    "\n",
    "arr = np.random.randint(1,20,size = (3,3))\n",
    "print(\"before broadcast :\\n\",arr)\n",
    "arr = arr + 5\n",
    "print(\"after broadcast :\\n\",arr)"
   ]
  },
  {
   "cell_type": "code",
   "execution_count": 29,
   "id": "5a0eb9c0-0624-4434-8364-1082e28b2469",
   "metadata": {},
   "outputs": [
    {
     "name": "stdout",
     "output_type": "stream",
     "text": [
      "arr1 :\n",
      " [[9 3 7]]\n",
      "arr2 :\n",
      " [[2 5 8 1]\n",
      " [2 4 3 9]\n",
      " [5 8 4 7]]\n",
      "arr1 * arr2 :\n",
      " [[18 45 72  9]\n",
      " [ 6 12  9 27]\n",
      " [35 56 28 49]]\n"
     ]
    }
   ],
   "source": [
    "# 37. Consider two arrays arr1 of shape (1, 3) and arr2 of shape (3, 4). Multiply each row of arr2 by the \n",
    "# corresponding element in arr1 using NumPy broadcasting.\n",
    "\n",
    "arr1 = np.random.randint(1,10,size = (1,3))\n",
    "arr2 = np.random.randint(1,10,size = (3,4))\n",
    "print(\"arr1 :\\n\",arr1)\n",
    "print(\"arr2 :\\n\",arr2)\n",
    "print(\"arr1 * arr2 :\\n\",arr1.T * arr2)"
   ]
  },
  {
   "cell_type": "code",
   "execution_count": 36,
   "id": "fa9ae0a5-63b1-4b7d-a612-4ef435395624",
   "metadata": {},
   "outputs": [
    {
     "name": "stdout",
     "output_type": "stream",
     "text": [
      "arr1 :\n",
      " [[1 7 7 5]]\n",
      "arr2 :\n",
      " [[4 3 5]\n",
      " [2 9 2]\n",
      " [6 3 9]\n",
      " [7 9 4]]\n",
      "arr1 + arr2 :\n",
      " [[ 5  4  6]\n",
      " [ 9 16  9]\n",
      " [13 10 16]\n",
      " [12 14  9]]\n"
     ]
    }
   ],
   "source": [
    "# 38. Given a 1D array arr1 of shape (1, 4) and a 2D array arr2 of shape (4, 3), add arr1 to each row of arr2 using NumPy broadcasting.\n",
    "\n",
    "arr1 = np.random.randint(1,10,size = (1,4))\n",
    "arr2 = np.random.randint(1,10,size = (4,3))\n",
    "print(\"arr1 :\\n\",arr1)\n",
    "print(\"arr2 :\\n\",arr2)\n",
    "print(\"arr1 + arr2 :\\n\",arr1.T + arr2)"
   ]
  },
  {
   "cell_type": "code",
   "execution_count": 37,
   "id": "96b135b3-9243-484b-9306-ee35dd1ebe57",
   "metadata": {},
   "outputs": [
    {
     "name": "stdout",
     "output_type": "stream",
     "text": [
      "arr1 :\n",
      " [[6]\n",
      " [9]\n",
      " [6]]\n",
      "arr2 :\n",
      " [[2 5 7]]\n",
      "arr1 + arr2 :\n",
      " [[ 8 11 13]\n",
      " [11 14 16]\n",
      " [ 8 11 13]]\n"
     ]
    }
   ],
   "source": [
    "# 39. Consider two arrays arr1 of shape (3, 1) and arr2 of shape (1, 3). Add these arrays using NumPy broadcasting.\n",
    "\n",
    "arr1 = np.random.randint(1,10,size = (3,1))\n",
    "arr2 = np.random.randint(1,10,size = (1,3))\n",
    "print(\"arr1 :\\n\",arr1)\n",
    "print(\"arr2 :\\n\",arr2)\n",
    "print(\"arr1 + arr2 :\\n\",arr1 + arr2)"
   ]
  },
  {
   "cell_type": "code",
   "execution_count": 44,
   "id": "2979095e-2881-40a2-8b26-14088b840fa8",
   "metadata": {},
   "outputs": [
    {
     "name": "stdout",
     "output_type": "stream",
     "text": [
      "arr1 :\n",
      " [[6 7]\n",
      " [1 6]]\n",
      "arr2 :\n",
      " [[2 3]\n",
      " [1 8]]\n",
      "arr1 + arr2 :\n",
      " [[12 21]\n",
      " [ 1 48]]\n"
     ]
    }
   ],
   "source": [
    "# 40. Given arrays arr1 of shape (2, 3) and arr2 of shape (2, 2), perform multiplication using NumPy broadcasting. Handle the shape incompatibility.\n",
    "\n",
    "arr1 = np.random.randint(1,10,size = (2,3))\n",
    "arr1 = arr1[:,:2]\n",
    "arr2 = np.random.randint(1,10,size = (2,2))\n",
    "print(\"arr1 :\\n\",arr1)\n",
    "print(\"arr2 :\\n\",arr2)\n",
    "print(\"arr1 + arr2 :\\n\",arr1 * arr2)"
   ]
  },
  {
   "cell_type": "code",
   "execution_count": 46,
   "id": "5de62bfc-7f2c-4483-a766-3927f086aeca",
   "metadata": {},
   "outputs": [
    {
     "name": "stdout",
     "output_type": "stream",
     "text": [
      "[2.5 3.5 4.5]\n"
     ]
    }
   ],
   "source": [
    "# 41. Calculate column wise mean for the given array: arr = np.array([[1, 2, 3], [4, 5, 6]])\n",
    "\n",
    "arr = np.array([[1, 2, 3], [4, 5, 6]])\n",
    "print(arr.mean(axis = 0))"
   ]
  },
  {
   "cell_type": "code",
   "execution_count": 3,
   "id": "da109b4b-4df5-4518-a907-2fa0271a17ca",
   "metadata": {},
   "outputs": [
    {
     "name": "stdout",
     "output_type": "stream",
     "text": [
      "[3 6]\n"
     ]
    }
   ],
   "source": [
    "# 42. Find maximum value in each row of the given array: arr = np.array([[1, 2, 3], [4, 5, 6]])\n",
    "\n",
    "arr = np.array([[1, 2, 3], [4, 5, 6]])\n",
    "print(arr.max(axis = 1))"
   ]
  },
  {
   "cell_type": "code",
   "execution_count": 53,
   "id": "e3efdc44-f793-44ed-9988-297d59e9b3fb",
   "metadata": {},
   "outputs": [
    {
     "name": "stdout",
     "output_type": "stream",
     "text": [
      "The index of 4 is : (1,0)\n",
      "The index of 5 is : (1,1)\n",
      "The index of 6 is : (1,2)\n"
     ]
    }
   ],
   "source": [
    "# 43. For the given array, find indices of maximum value in each column. arr = np.array([[1, 2, 3], [4, 5, 6]])\n",
    "\n",
    "arr = np.array([[1, 2, 3], [4, 5, 6]])\n",
    "lis = list(arr.max(axis = 0))\n",
    "for i in lis:\n",
    "    for j in range(len(arr)):\n",
    "        for k in range(len(arr[0])):\n",
    "            if arr[j][k]==i: print(f\"The index of {i} is : ({j},{k})\")"
   ]
  },
  {
   "cell_type": "code",
   "execution_count": 4,
   "id": "5850f4f8-3f1e-456a-8180-ba3d3098fac8",
   "metadata": {},
   "outputs": [
    {
     "data": {
      "text/plain": [
       "[6, 15]"
      ]
     },
     "execution_count": 4,
     "metadata": {},
     "output_type": "execute_result"
    }
   ],
   "source": [
    "# 44. For the given array, apply custom function to calculate moving sum along rows. arr = np.array([[1, 2, 3], [4, 5, 6]])\n",
    "\n",
    "from functools import reduce\n",
    "\n",
    "def moving_sum(arr):\n",
    "    l=[]\n",
    "    for i in arr:\n",
    "        l.append(reduce(lambda x,y : x+y, i))\n",
    "    return l\n",
    "\n",
    "arr = np.array([[1, 2, 3], [4, 5, 6]])\n",
    "moving_sum(arr)"
   ]
  },
  {
   "cell_type": "code",
   "execution_count": 7,
   "id": "2fa4c5da-fb28-4139-b7a3-6b36eaca689c",
   "metadata": {},
   "outputs": [
    {
     "name": "stdout",
     "output_type": "stream",
     "text": [
      "[False False False]\n"
     ]
    }
   ],
   "source": [
    "# 45. In the given array, check if all elements in each column are even. arr = np.array([[2, 4, 6], [3, 5, 7]])\n",
    "\n",
    "arr = np.array([[2, 4, 6], [3, 5, 7]])\n",
    "print((arr[0]&1==0) & (arr[1]&1==0))"
   ]
  },
  {
   "cell_type": "code",
   "execution_count": 10,
   "id": "78a9ab6a-6dd3-470b-8623-bb1e7ab33376",
   "metadata": {},
   "outputs": [
    {
     "name": "stdin",
     "output_type": "stream",
     "text": [
      "enter number of rows :  3\n",
      "enter number of columns :  2\n"
     ]
    },
    {
     "data": {
      "text/plain": [
       "array([[2, 4],\n",
       "       [6, 3],\n",
       "       [5, 7]])"
      ]
     },
     "execution_count": 10,
     "metadata": {},
     "output_type": "execute_result"
    }
   ],
   "source": [
    "# 46. Given a NumPy array arr, reshape it into a matrix of dimensions `m` rows and `n` columns. Return the reshaped matrix. \n",
    "# original_array = np.array([1, 2, 3, 4, 5, 6])\n",
    "\n",
    "def reshaped(arr,m,n):\n",
    "    return arr.reshape(m,n)\n",
    "\n",
    "original_array = np.array([1, 2, 3, 4, 5, 6])\n",
    "m = int(input(\"enter number of rows : \"))\n",
    "n = int(input(\"enter number of columns : \"))\n",
    "reshaped(arr,m,n)"
   ]
  },
  {
   "cell_type": "code",
   "execution_count": 12,
   "id": "e7724940-51d5-4c07-8e7c-ac07a83feecb",
   "metadata": {},
   "outputs": [
    {
     "data": {
      "text/plain": [
       "array([1, 2, 3, 4, 5, 6])"
      ]
     },
     "execution_count": 12,
     "metadata": {},
     "output_type": "execute_result"
    }
   ],
   "source": [
    "# 47. Create a function that takes a matrix as input and returns the flattened array. input_matrix = np.array([[1, 2, 3], [4, 5, 6]])\n",
    "\n",
    "def flattened_array(matrix):\n",
    "    return matrix.flatten()\n",
    "\n",
    "input_matrix = np.array([[1, 2, 3], [4, 5, 6]])\n",
    "flattened_array(input_matrix)"
   ]
  },
  {
   "cell_type": "code",
   "execution_count": 4,
   "id": "6c2cc7b3-1201-417b-980e-0d6f98ebfaa8",
   "metadata": {},
   "outputs": [
    {
     "name": "stdin",
     "output_type": "stream",
     "text": [
      "enter the axis 0 or 1 :  1\n"
     ]
    },
    {
     "name": "stdout",
     "output_type": "stream",
     "text": [
      "The concatenation on axis 1 is :\n",
      " [[1 2 5 6]\n",
      " [3 4 7 8]]\n"
     ]
    }
   ],
   "source": [
    "# 48. Write a function that concatenates two given arrays along a specified axis. array1 = np.array([[1, 2], [3, 4]]) \n",
    "# array2 = np.array([[5, 6], [7, 8]])\n",
    "\n",
    "def array_concatenation(arr1,arr2,axs):\n",
    "    if axs==0: return np.concatenate((arr1,arr2),axis = 0)\n",
    "    elif axs==1: return np.concatenate((arr1,arr2),axis = 1)\n",
    "    else: return \"invalid\"\n",
    "\n",
    "array1 = np.array([[1, 2], [3, 4]])\n",
    "array2 = np.array([[5, 6], [7, 8]])\n",
    "specified_axis = int(input(\"enter the axis 0 or 1 : \"))\n",
    "print(f\"The concatenation on axis {specified_axis} is :\\n\",array_concatenation(array1,array2,specified_axis))"
   ]
  },
  {
   "cell_type": "code",
   "execution_count": 11,
   "id": "147f4ada-8aa8-4f59-8977-b8ad5816dee6",
   "metadata": {},
   "outputs": [
    {
     "name": "stdin",
     "output_type": "stream",
     "text": [
      "enter the axis 0 or 1 :  0\n"
     ]
    },
    {
     "data": {
      "text/plain": [
       "[array([[1, 2, 3]]), array([[4, 5, 6]]), array([[7, 8, 9]])]"
      ]
     },
     "execution_count": 11,
     "metadata": {},
     "output_type": "execute_result"
    }
   ],
   "source": [
    "# 49. Create a function that splits an array into multiple sub-arrays along a specified axis.\n",
    "# original_array = np.array([[1, 2, 3], [4, 5, 6], [7, 8, 9]])\n",
    "\n",
    "def split_subarrays(arr,n,axs):\n",
    "    return np.split(arr,n,axis = axs)\n",
    "\n",
    "original_array = np.array([[1, 2, 3], [4, 5, 6], [7, 8, 9]])\n",
    "specified_axis = int(input(\"enter the axis 0 or 1 : \"))\n",
    "split_subarrays(original_array,3,specified_axis)"
   ]
  },
  {
   "cell_type": "code",
   "execution_count": 12,
   "id": "dd15b324-a834-415e-a4fc-dca8186b66dd",
   "metadata": {},
   "outputs": [
    {
     "data": {
      "text/plain": [
       "array([ 1, 10,  4, 11,  5])"
      ]
     },
     "execution_count": 12,
     "metadata": {},
     "output_type": "execute_result"
    }
   ],
   "source": [
    "# 50. Write a function that inserts and then deletes elements from a given array at specified indices. original_array = np.array([1, 2, 3, 4, 5])\n",
    "# indices_to_insert = [2, 4]\n",
    "# values_to_insert = [10, 11]\n",
    "# indices_to_delete = [1, 3]\n",
    "\n",
    "def Insert_delete(arr,ip,iv,dp):\n",
    "    arr = np.insert(arr,ip,iv)\n",
    "    arr = np.delete(arr,dp)\n",
    "    return arr\n",
    "\n",
    "original_array = np.array([1, 2, 3, 4, 5])\n",
    "indices_to_insert = [2, 4]\n",
    "values_to_insert = [10, 11]\n",
    "indices_to_delete = [1, 3]\n",
    "Insert_delete(original_array,indices_to_insert,values_to_insert,indices_to_delete)"
   ]
  },
  {
   "cell_type": "code",
   "execution_count": 3,
   "id": "01601b38-1f0b-4f79-bebc-3ccf4393c905",
   "metadata": {},
   "outputs": [
    {
     "name": "stdout",
     "output_type": "stream",
     "text": [
      "[ 2 47 38 47 52 26 19 37 29 28]\n"
     ]
    }
   ],
   "source": [
    "# 51. Create a NumPy array `arr1` with random integers and another array `arr2` with integers from 1 to 10. \n",
    "# Perform element-wise addition between `arr1` and `arr2`.\n",
    "\n",
    "arr1 = np.random.randint(1,50,size = (10,))\n",
    "arr2 = np.arange(1,11)\n",
    "print(arr1+arr2)"
   ]
  },
  {
   "cell_type": "code",
   "execution_count": 4,
   "id": "ef25aedb-7e1e-4beb-a51a-28c67666c062",
   "metadata": {},
   "outputs": [
    {
     "name": "stdout",
     "output_type": "stream",
     "text": [
      "[ 9  7  5  3  1 -1 -3 -5 -7]\n"
     ]
    }
   ],
   "source": [
    "# 52. Generate a NumPy array `arr1` with sequential integers from 10 to 1 and another array `arr2` with integers\n",
    "# from 1 to 10. Subtract `arr2` from `arr1` element-wise.\n",
    "\n",
    "arr1 = np.array(range(10,1,-1))\n",
    "arr2 = np.arange(1,10)\n",
    "\n",
    "print(arr1-arr2)"
   ]
  },
  {
   "cell_type": "code",
   "execution_count": 3,
   "id": "24734f5f-3146-4ba7-a07b-31ef7412c4bd",
   "metadata": {},
   "outputs": [
    {
     "name": "stdout",
     "output_type": "stream",
     "text": [
      "[ 7  6 27 32 30]\n"
     ]
    }
   ],
   "source": [
    "# 53. Create a NumPy array `arr1` with random integers and another array `arr2` with integers from 1 to 5.\n",
    "# Perform element-wise multiplication between `arr1` and `arr2`.\n",
    "arr1 = np.random.randint(1,10,size = (5,))\n",
    "arr2 = np.arange(1,6)\n",
    "print(arr1*arr2)"
   ]
  },
  {
   "cell_type": "code",
   "execution_count": 4,
   "id": "56a09d2b-30c9-40e8-8899-f37fd5712ab0",
   "metadata": {},
   "outputs": [
    {
     "name": "stdout",
     "output_type": "stream",
     "text": [
      "[2. 2. 2. 2. 2.]\n"
     ]
    }
   ],
   "source": [
    "# 54. Generate a NumPy array `arr1` with even integers from 2 to 10 and another array `arr2` with integers from 1\n",
    "# to 5. Perform element-wise division of `arr1` by `arr2`.\n",
    "\n",
    "arr1 = np.arange(2,11,2)\n",
    "arr2 = np.arange(1,6)\n",
    "print(arr1/arr2)"
   ]
  },
  {
   "cell_type": "code",
   "execution_count": 3,
   "id": "ae9c7dd7-1ed2-4db1-bfd5-5d647f5cb870",
   "metadata": {},
   "outputs": [
    {
     "name": "stdout",
     "output_type": "stream",
     "text": [
      "[ 1 16 27 16  5]\n"
     ]
    }
   ],
   "source": [
    "# 55. Create a NumPy array `arr1` with integers from 1 to 5 and another array `arr2` with the same numbers\n",
    "# reversed. Calculate the exponentiation of `arr1` raised to the power of `arr2` element-wise.\n",
    "\n",
    "arr1 = np.arange(1,6)\n",
    "arr2 = arr1.copy()[::-1]\n",
    "print(np.power(arr1,arr2))"
   ]
  },
  {
   "cell_type": "code",
   "execution_count": 7,
   "id": "233f5625-96cf-4c1d-b5bc-7ff686bb4567",
   "metadata": {},
   "outputs": [
    {
     "name": "stdin",
     "output_type": "stream",
     "text": [
      "enter the specific substring :  hello\n"
     ]
    },
    {
     "data": {
      "text/plain": [
       "3"
      ]
     },
     "execution_count": 7,
     "metadata": {},
     "output_type": "execute_result"
    }
   ],
   "source": [
    "# 56. Write a function that counts the occurrences of a specific substring within a NumPy array of strings. \n",
    "# arr = np.array(['hello', 'world', 'hello', 'numpy', 'hello'])\n",
    "\n",
    "find_substring = lambda x, y : len(x[x == y])\n",
    "\n",
    "arr = np.array(['hello', 'world', 'hello', 'numpy', 'hello'])\n",
    "sp_substring = input(\"enter the specific substring : \")\n",
    "find_substring(arr,sp_substring)"
   ]
  },
  {
   "cell_type": "code",
   "execution_count": 14,
   "id": "c0ff3c9d-362b-40f0-bece-2a6b79d8db33",
   "metadata": {},
   "outputs": [
    {
     "data": {
      "text/plain": [
       "array(['GPT'], dtype='<U6')"
      ]
     },
     "execution_count": 14,
     "metadata": {},
     "output_type": "execute_result"
    }
   ],
   "source": [
    "# 57. Write a function that extracts uppercase characters from a NumPy array of strings.\n",
    "# arr = np.array(['Hello', 'World', 'OpenAI', 'GPT'])\n",
    "\n",
    "uppercase_substring = lambda x : x[x == np.char.upper(x)]\n",
    "\n",
    "arr = np.array(['Hello', 'World', 'OpenAI', 'GPT'])\n",
    "uppercase_substring(arr)"
   ]
  },
  {
   "cell_type": "code",
   "execution_count": 17,
   "id": "62c29180-23ce-440c-9377-bf5b17ec2de9",
   "metadata": {},
   "outputs": [
    {
     "name": "stdin",
     "output_type": "stream",
     "text": [
      "enter the string you want change :  grape\n",
      "enter the string, by that you want to change it :  orange\n"
     ]
    },
    {
     "data": {
      "text/plain": [
       "array(['apple', 'banana', 'orange', 'pineapple'], dtype='<U9')"
      ]
     },
     "execution_count": 17,
     "metadata": {},
     "output_type": "execute_result"
    }
   ],
   "source": [
    "# 58. Write a function that replaces occurrences of a substring in a NumPy array of strings with a new string. \n",
    "# arr = np.array(['apple', 'banana', 'grape', 'pineapple'])\n",
    "\n",
    "replaces_occurrences = lambda arr,wc,bw : np.char.replace(arr,wc,bw)\n",
    "\n",
    "arr = np.array(['apple', 'banana', 'grape', 'pineapple'])\n",
    "wc = input(\"enter the string you want change : \")\n",
    "bw = input(\"enter the string, by that you want to change it : \")\n",
    "replaces_occurrences(arr,wc,bw)"
   ]
  },
  {
   "cell_type": "code",
   "execution_count": 20,
   "id": "4c26812c-06f1-429a-92f8-3ece29297f46",
   "metadata": {},
   "outputs": [
    {
     "data": {
      "text/plain": [
       "array(['HelloOpen', 'WorldAI'], dtype='<U9')"
      ]
     },
     "execution_count": 20,
     "metadata": {},
     "output_type": "execute_result"
    }
   ],
   "source": [
    "# 59. Write a function that concatenates strings in a NumPy array element-wise. arr1 = np.array(['Hello', 'World']) \n",
    "# arr2 = np.array(['Open', 'AI'])\n",
    "\n",
    "concatenates_strings = lambda arr1, arr2 : np.char.add(arr1,arr2)\n",
    "\n",
    "arr1 = np.array(['Hello', 'World']) \n",
    "arr2 = np.array(['Open', 'AI'])\n",
    "concatenates_strings(arr1,arr2)"
   ]
  },
  {
   "cell_type": "code",
   "execution_count": 26,
   "id": "fda7d1dc-1c40-4784-ad0b-77f3027be42c",
   "metadata": {},
   "outputs": [
    {
     "data": {
      "text/plain": [
       "9"
      ]
     },
     "execution_count": 26,
     "metadata": {},
     "output_type": "execute_result"
    }
   ],
   "source": [
    "# 60. Write a function that finds the length of the longest string in a NumPy array. arr = np.array(['apple', 'banana', 'grape', 'pineapple'])\n",
    "\n",
    "length_of_the_longest_string = lambda arr : max(list(map(lambda x : len(x),arr)))\n",
    "\n",
    "arr = np.array(['apple', 'banana', 'grape', 'pineapple'])\n",
    "length_of_the_longest_string(arr)"
   ]
  },
  {
   "cell_type": "code",
   "execution_count": 30,
   "id": "f00ae33d-b204-4666-a464-cee9bac9660b",
   "metadata": {},
   "outputs": [
    {
     "name": "stdout",
     "output_type": "stream",
     "text": [
      "Mean of this dataset is : 483.73\n",
      "Median of this dataset is : 439.0\n",
      "Variance of this dataset is : 97341.33709999999\n",
      "Standard deviation of this dataset is : 311.99573250286613\n"
     ]
    }
   ],
   "source": [
    "# 61. Create a dataset of 100 random integers between 1 and 1000. Compute the mean, median, variance, and \n",
    "# standard deviation of the dataset using NumPy's functions.\n",
    "\n",
    "dataset = np.random.randint(1,1000,size = 100)\n",
    "print(\"Mean of this dataset is :\",dataset.mean())\n",
    "print(\"Median of this dataset is :\",np.median(dataset))\n",
    "print(\"Variance of this dataset is :\",dataset.var())\n",
    "print(\"Standard deviation of this dataset is :\",dataset.std())"
   ]
  },
  {
   "cell_type": "code",
   "execution_count": 3,
   "id": "d8a7a5bb-f065-456c-a34f-d311d9a08aea",
   "metadata": {},
   "outputs": [
    {
     "name": "stdout",
     "output_type": "stream",
     "text": [
      "25th percentiles of this dataset is : 32.5\n",
      "75th percentiles of this dataset is : 76.0\n"
     ]
    }
   ],
   "source": [
    "# 62. Generate an array of 50 random numbers between 1 and 100. Find the 25th and 75th percentiles of the dataset\n",
    "\n",
    "df = pd.Series(np.random.randint(1,100,size = 50)).describe()\n",
    "print(\"25th percentiles of this dataset is :\",df[\"25%\"])\n",
    "print(\"75th percentiles of this dataset is :\",df[\"75%\"])"
   ]
  },
  {
   "cell_type": "code",
   "execution_count": 4,
   "id": "b44640d2-f2da-4125-92d2-7b18f1d12b31",
   "metadata": {},
   "outputs": [
    {
     "data": {
      "text/plain": [
       "array([[ 1.        , -0.13845108],\n",
       "       [-0.13845108,  1.        ]])"
      ]
     },
     "execution_count": 4,
     "metadata": {},
     "output_type": "execute_result"
    }
   ],
   "source": [
    "# 63. Create two arrays representing two sets of variables. Compute the correlation coefficient between these arrays using NumPy's \n",
    "# `corrcoef` function.\n",
    "\n",
    "arr1 = np.random.randint(1,100,size = 50)\n",
    "arr2 = np.random.randint(1,100,size = 50)\n",
    "np.corrcoef(arr1,arr2)"
   ]
  },
  {
   "cell_type": "code",
   "execution_count": 5,
   "id": "6a9b2966-b198-42b4-ad2d-624a3c5106b7",
   "metadata": {},
   "outputs": [
    {
     "data": {
      "text/plain": [
       "array([[16151,  7252, 10070, 13035],\n",
       "       [12260,  5736,  8474, 11258]])"
      ]
     },
     "execution_count": 5,
     "metadata": {},
     "output_type": "execute_result"
    }
   ],
   "source": [
    "# 64. Create two matrices and perform matrix multiplication using NumPy's `dot` function.\n",
    "\n",
    "arr1 = np.random.randint(1,100,size = (2,3))\n",
    "arr2 = np.random.randint(1,100,size = (3,4))\n",
    "arr1.dot(arr2)"
   ]
  },
  {
   "cell_type": "code",
   "execution_count": 9,
   "id": "c0ff0a67-25dd-485f-b483-781d149522d0",
   "metadata": {},
   "outputs": [
    {
     "name": "stdout",
     "output_type": "stream",
     "text": [
      "The 10th percentile of this data is : 129.9\n",
      "The 50th percentile of this data is : 679.0\n",
      "The 90th percentile of this data is : 937.7\n",
      "The first quartile of this data is : 260.75\n",
      "The third quartile of this data is : 842.75\n"
     ]
    }
   ],
   "source": [
    "# 65. Create an array of 50 integers between 10 and 1000. Calculate the 10th, 50th (median), and 90th \n",
    "# percentiles along with the first and third quartiles.\n",
    "\n",
    "dif_percentiles = np.percentile(np.random.randint(10,1000,size = 50), [10,50,90,25,75])\n",
    "print(\"The 10th percentile of this data is :\",dif_percentiles[0])\n",
    "print(\"The 50th percentile of this data is :\",dif_percentiles[1])\n",
    "print(\"The 90th percentile of this data is :\",dif_percentiles[2])\n",
    "print(\"The first quartile of this data is :\",dif_percentiles[3])\n",
    "print(\"The third quartile of this data is :\",dif_percentiles[4])"
   ]
  },
  {
   "cell_type": "code",
   "execution_count": 3,
   "id": "537f4944-49d3-4de8-9f3e-524118b0e68c",
   "metadata": {},
   "outputs": [
    {
     "name": "stdin",
     "output_type": "stream",
     "text": [
      "enter the element you want to search in this array 4\n"
     ]
    },
    {
     "data": {
      "text/plain": [
       "array([3])"
      ]
     },
     "execution_count": 3,
     "metadata": {},
     "output_type": "execute_result"
    }
   ],
   "source": [
    "# 66. Create a NumPy array of integers and find the index of a specific element.\n",
    "\n",
    "def search_element(arr,se):\n",
    "    if se not in arr:\n",
    "        return \"This element is not in this array\"\n",
    "    else:\n",
    "        return np.where(arr == se)[0]\n",
    "    \n",
    "arr = np.random.randint(1,10,size = 10)\n",
    "se = int(input(\"enter the element you want to search in this array\"))\n",
    "search_element(arr,se)"
   ]
  },
  {
   "cell_type": "code",
   "execution_count": 10,
   "id": "58ccc6ca-fcfa-431c-a4ed-65affe19c9b2",
   "metadata": {},
   "outputs": [
    {
     "name": "stdout",
     "output_type": "stream",
     "text": [
      "before sort : [7 7 3 7 8 1 3 7 2 6]\n",
      "after sort : [1 2 3 3 6 7 7 7 7 8]\n"
     ]
    }
   ],
   "source": [
    "# 67. Generate a random NumPy array and sort it in ascending order.\n",
    "\n",
    "arr = np.random.randint(1,10,size = 10)\n",
    "print(\"before sort :\",arr)\n",
    "arr = np.sort(arr)\n",
    "print(\"after sort :\",arr)"
   ]
  },
  {
   "cell_type": "code",
   "execution_count": 14,
   "id": "46e6374d-8eaa-42ad-af34-837eba70daa7",
   "metadata": {},
   "outputs": [
    {
     "data": {
      "text/plain": [
       "[25, 42, 30]"
      ]
     },
     "execution_count": 14,
     "metadata": {},
     "output_type": "execute_result"
    }
   ],
   "source": [
    "# 68. Filter elements >20  in the given NumPy array. arr = np.array([12, 25, 6, 42, 8, 30])\n",
    "\n",
    "arr = np.array([12, 25, 6, 42, 8, 30])\n",
    "list(filter(lambda x : x>20,arr))"
   ]
  },
  {
   "cell_type": "code",
   "execution_count": 17,
   "id": "d0cfe923-03ff-4dbd-b48a-cd4c7cfa55ea",
   "metadata": {},
   "outputs": [
    {
     "data": {
      "text/plain": [
       "array([12, 15])"
      ]
     },
     "execution_count": 17,
     "metadata": {},
     "output_type": "execute_result"
    }
   ],
   "source": [
    "# 69. Filter elements which are divisible by 3 from a given NumPy array. arr = np.array([1, 5, 8, 12, 15])\n",
    "\n",
    "arr = np.array([1, 5, 8, 12, 15])\n",
    "np.extract(arr%3==0,arr)"
   ]
  },
  {
   "cell_type": "code",
   "execution_count": 20,
   "id": "eb4aa87b-45ce-4f6e-a3ff-c7fee478e38a",
   "metadata": {},
   "outputs": [
    {
     "data": {
      "text/plain": [
       "array([20, 30, 40])"
      ]
     },
     "execution_count": 20,
     "metadata": {},
     "output_type": "execute_result"
    }
   ],
   "source": [
    "# 70. Filter elements which are ≥ 20 and ≤ 40 from a given NumPy array. arr = np.array([10, 20, 30, 40, 50])\n",
    "\n",
    "arr = np.array([10, 20, 30, 40, 50])\n",
    "np.extract((20<=arr) & (arr<=40),arr)"
   ]
  },
  {
   "cell_type": "code",
   "execution_count": 31,
   "id": "041b95ec-a2c1-49e9-9f1c-5649c6cecb97",
   "metadata": {},
   "outputs": [
    {
     "name": "stdout",
     "output_type": "stream",
     "text": [
      "The array is in the system's native byte order.\n"
     ]
    }
   ],
   "source": [
    "# 71. For the given NumPy array, check its byte order using the `dtype` attribute byteorder. arr = np.array([1, 2, 3])\n",
    "\n",
    "arr = np.array([1, 2, 3])\n",
    "byte_order = arr.dtype.byteorder\n",
    "if byte_order == '=':\n",
    "    print(\"The array is in the system's native byte order.\")\n",
    "elif byte_order == '<':\n",
    "    print(\"The array is in little-endian byte order.\")\n",
    "elif byte_order == '>':\n",
    "    print(\"The array is in big-endian byte order.\")\n",
    "else:\n",
    "    print(\"Unknown byte order.\")"
   ]
  },
  {
   "cell_type": "code",
   "execution_count": 28,
   "id": "eb3d91a9-85c5-48c8-99c4-3f1809874a4d",
   "metadata": {},
   "outputs": [
    {
     "name": "stdout",
     "output_type": "stream",
     "text": [
      "[16777216 33554432 50331648]\n"
     ]
    }
   ],
   "source": [
    "# 72. For the given NumPy array, perform byte swapping in place using `byteswap()`. arr = np.array([1, 2, 3], dtype=np.int32)\n",
    "\n",
    "arr = np.array([1, 2, 3], dtype=np.int32)\n",
    "swapped = arr.view(np.uint8).reshape(-1, 4)[:, ::-1].reshape(-1).view(np.int32)\n",
    "print(swapped)"
   ]
  },
  {
   "cell_type": "code",
   "execution_count": 29,
   "id": "75578918-557b-40e7-a012-5362c1eb9eb8",
   "metadata": {},
   "outputs": [
    {
     "name": "stdout",
     "output_type": "stream",
     "text": [
      "Original array: [1 2 3]\n",
      "Byte-swapped array: [16777216 33554432 50331648]\n"
     ]
    }
   ],
   "source": [
    "# 73. For the given NumPy array, swap its byte order without modifying the original array using `newbyteorder()`. \n",
    "# arr = np.array([1, 2, 3], dtype=np.int32)\n",
    "\n",
    "arr = np.array([1, 2, 3], dtype=np.int32)\n",
    "swapped = arr.newbyteorder()\n",
    "print(\"Original array:\", arr)\n",
    "print(\"Byte-swapped array:\", swapped)"
   ]
  },
  {
   "cell_type": "code",
   "execution_count": 30,
   "id": "baf7face-a70f-4fd2-9e59-c963470b9883",
   "metadata": {},
   "outputs": [
    {
     "name": "stdout",
     "output_type": "stream",
     "text": [
      "Original array: [1 2 3]\n",
      "Conditionally byte-swapped array: [16777216 33554432 50331648]\n"
     ]
    }
   ],
   "source": [
    "# 74. For the given NumPy array and swap its byte order conditionally based on system endianness using `newbyteorder()`. \n",
    "# arr = np.array([1, 2, 3], dtype=np.int32)\n",
    "\n",
    "arr = np.array([1, 2, 3], dtype=np.int32)\n",
    "if arr.dtype.byteorder == '=':\n",
    "    swapped = arr.newbyteorder()\n",
    "else:\n",
    "    swapped = arr\n",
    "\n",
    "print(\"Original array:\", arr)\n",
    "print(\"Conditionally byte-swapped array:\", swapped)"
   ]
  },
  {
   "cell_type": "code",
   "execution_count": null,
   "id": "ad0b6996-5f5e-4aaf-ba6e-f90b8a215036",
   "metadata": {},
   "outputs": [],
   "source": [
    "# 75. For the given NumPy array, check if byte swapping is necessary for the current system using `dtype` attribute `byteorder`. \n",
    "# arr = np.array([1, 2, 3], dtype=np.int32)\n",
    "\n",
    "arr = np.array([1, 2, 3], dtype=np.int32)\n",
    "byte_order = arr.dtype.byteorder\n",
    "if byte_order == '=':  \n",
    "    system_endian = 'little' if np.little_endian else 'big'\n",
    "    print(f\"The array is already in the system's native {system_endian}-endian byte order. No swapping necessary.\")\n",
    "elif byte_order == '<':  \n",
    "    if not np.little_endian:\n",
    "        print(\"The system is big-endian, so byte swapping is necessary.\")\n",
    "    else:\n",
    "        print(\"The system is little-endian, and so is the array. No swapping necessary.\")\n",
    "elif byte_order == '>':  \n",
    "    if np.little_endian:\n",
    "        print(\"The system is little-endian, so byte swapping is necessary.\")\n",
    "    else:\n",
    "        print(\"The system is big-endian, and so is the array. No swapping necessary.\")"
   ]
  },
  {
   "cell_type": "code",
   "execution_count": 27,
   "id": "db385847-5cab-4e61-a99f-a3c0d3489dd3",
   "metadata": {},
   "outputs": [
    {
     "name": "stdout",
     "output_type": "stream",
     "text": [
      "before modification data is :\n",
      " [ 1  2  3  4  5  6  7  8  9 10]\n",
      "before modification data_copy is :\n",
      " [ 1  2  3  4  5  6  7  8  9 10]\n",
      "after modification data is :\n",
      " [ 1  2  3  4  5  6  7  8  9 10]\n",
      "after modification data_copy is :\n",
      " [ 1  2  3 11  5  6  7  8  9 10]\n"
     ]
    }
   ],
   "source": [
    "# 76. Create a NumPy array `arr1` with values from 1 to 10. Create a copy of `arr1` named `copy_arr` and modify \n",
    "# an element in `copy_arr`. Check if modifying `copy_arr` affects `arr1`.\n",
    "\n",
    "arr1 = np.arange(1,11)\n",
    "copy_arr = arr1.copy()\n",
    "print(\"before modification data is :\\n\",arr1)\n",
    "print(\"before modification data_copy is :\\n\",copy_arr)\n",
    "copy_arr[3] = 11\n",
    "print(\"after modification data is :\\n\",arr1)\n",
    "print(\"after modification data_copy is :\\n\",copy_arr)"
   ]
  },
  {
   "cell_type": "code",
   "execution_count": 25,
   "id": "0c469aef-b01f-44c5-93bf-31f3461260c4",
   "metadata": {},
   "outputs": [
    {
     "name": "stdout",
     "output_type": "stream",
     "text": [
      "before broadcasting data is :\n",
      " [[5 4 5]\n",
      " [7 7 4]\n",
      " [6 5 7]]\n",
      "before broadcasting data_copy is :\n",
      " [[4 5]\n",
      " [7 4]]\n",
      "after broadcasting data is :\n",
      " [[ 5  4  5]\n",
      " [ 7 11  4]\n",
      " [ 6  5  7]]\n",
      "after broadcasting data_copy is :\n",
      " [[ 4  5]\n",
      " [11  4]]\n"
     ]
    }
   ],
   "source": [
    "# 77. Create a 2D NumPy array `matrix` of shape (3, 3) with random integers. Extract a slice `view_slice` from\n",
    "# the matrix. Modify an element in `view_slice` and observe if it changes the original `matrix`.\n",
    "\n",
    "matrix = np.matrix(np.random.randint(1,10,size = (3,3)))\n",
    "view_slice = matrix[0:2,1:3]\n",
    "print(\"before modification data is :\\n\",matrix)\n",
    "print(\"before modification data_copy is :\\n\",view_slice)\n",
    "view_slice[1,0] = 11\n",
    "print(\"after modification data is :\\n\",matrix)\n",
    "print(\"after modification data_copy is :\\n\",view_slice)"
   ]
  },
  {
   "cell_type": "code",
   "execution_count": 21,
   "id": "12bd04ed-e5b4-47e3-babe-a5577155d7a2",
   "metadata": {},
   "outputs": [
    {
     "name": "stdout",
     "output_type": "stream",
     "text": [
      "before broadcasting data is :\n",
      " [[ 1  2  3]\n",
      " [ 4  5  6]\n",
      " [ 7  8  9]\n",
      " [10 11 12]]\n",
      "before broadcasting data_copy is :\n",
      " [[2 3]\n",
      " [5 6]\n",
      " [8 9]]\n",
      "after broadcasting data is :\n",
      " [[ 1  2  3]\n",
      " [ 4  5  6]\n",
      " [ 7  8  9]\n",
      " [10 11 12]]\n",
      "after broadcasting data_copy is :\n",
      " [[ 7  8]\n",
      " [10 11]\n",
      " [13 14]]\n"
     ]
    }
   ],
   "source": [
    "# 78. Create a NumPy array `array_a` of shape (4, 3) with sequential integers from 1 to 12. Extract a slice\n",
    "# `view_b` from `array_a` and broadcast the addition of 5 to view_b. Check if it alters the original `array_a`.\n",
    "\n",
    "array_a = np.arange(1,13).reshape(4,3)\n",
    "view_b = array_a[0:3,1:3] \n",
    "print(\"before broadcasting data is :\\n\",array_a)\n",
    "print(\"before broadcasting data_copy is :\\n\",view_b)\n",
    "view_b  = view_b + 5\n",
    "print(\"after broadcasting data is :\\n\",array_a)\n",
    "print(\"after broadcasting data_copy is :\\n\",view_b)"
   ]
  },
  {
   "cell_type": "code",
   "execution_count": 23,
   "id": "9bec239c-497b-41a2-a856-47573aee5266",
   "metadata": {},
   "outputs": [
    {
     "name": "stdout",
     "output_type": "stream",
     "text": [
      "before modification data is :\n",
      " [[1 6 4 1]\n",
      " [4 2 7 5]]\n",
      "before modification data_copy is :\n",
      " [[1 6]\n",
      " [4 1]\n",
      " [4 2]\n",
      " [7 5]]\n",
      "after modification data is :\n",
      " [[ 1  6 24  1]\n",
      " [ 4  2  7  5]]\n",
      "after modification data_copy is :\n",
      " [[ 1  6]\n",
      " [24  1]\n",
      " [ 4  2]\n",
      " [ 7  5]]\n"
     ]
    }
   ],
   "source": [
    "# 79. Create a NumPy array `orig_array` of shape (2, 4) with values from 1 to 8. Create a reshaped view `reshaped_view` of shape (4, 2) from \n",
    "# orig_array. Modify an element in `reshaped_view` and check if it reflects changes in the original `orig_array`.\n",
    "\n",
    "orig_array = np.random.randint(1,8,size = (2,4))\n",
    "reshaped_view = orig_array.reshape(4,2)\n",
    "print(\"before modification data is :\\n\",orig_array)\n",
    "print(\"before modification data_copy is :\\n\",reshaped_view)\n",
    "reshaped_view[1][0] = 24\n",
    "print(\"after modification data is :\\n\",orig_array)\n",
    "print(\"after modification data_copy is :\\n\",reshaped_view)"
   ]
  },
  {
   "cell_type": "code",
   "execution_count": 22,
   "id": "f034980d-926b-4703-b267-e15fbfbdf120",
   "metadata": {},
   "outputs": [
    {
     "name": "stdout",
     "output_type": "stream",
     "text": [
      "before modification data is :\n",
      " [[2 4 8 3]\n",
      " [1 1 1 7]\n",
      " [8 9 6 5]]\n",
      "before modification data_copy is : [8 7 8 9 6]\n",
      "after modification data is :\n",
      " [[2 4 8 3]\n",
      " [1 1 1 7]\n",
      " [8 9 6 5]]\n",
      "after modification data_copy is : [ 8 24  8  9  6]\n"
     ]
    }
   ],
   "source": [
    "# 80. Create a NumPy array `data` of shape (3, 4) with random integers. Extract a copy `data_copy` of\n",
    "# elements greater than 5. Modify an element in `data_copy` and verify if it affects the original `data`.\n",
    "\n",
    "data = np.random.randint(1,10,size = (3,4))\n",
    "data_copy = np.extract(data>5,data)\n",
    "print(\"before modification data is :\\n\",data)\n",
    "print(\"before modification data_copy is :\",data_copy)\n",
    "data_copy[1] = 24\n",
    "print(\"after modification data is :\\n\",data)\n",
    "print(\"after modification data_copy is :\",data_copy)"
   ]
  },
  {
   "cell_type": "code",
   "execution_count": 31,
   "id": "902e7bf3-0aff-4588-b77a-fb1938a87a9d",
   "metadata": {},
   "outputs": [
    {
     "name": "stdout",
     "output_type": "stream",
     "text": [
      "addition operation :\n",
      " [[ 3  7 14 13]\n",
      " [ 5  9 15  5]\n",
      " [13  7  8  7]]\n",
      "substaction operation :\n",
      " [[ 1 -1 -2 -5]\n",
      " [-1 -1 -1  1]\n",
      " [-5  1 -4 -5]]\n"
     ]
    }
   ],
   "source": [
    "# 81. Create two matrices A and B of identical shape containing integers and perform addition and subtraction operations between them.\n",
    "\n",
    "A = np.matrix(np.random.randint(1,10,size = (3,4)))\n",
    "B = np.matrix(np.random.randint(1,10,size = (3,4)))\n",
    "print(\"addition operation :\\n\",A+B)\n",
    "print(\"substaction operation :\\n\",A-B)"
   ]
  },
  {
   "cell_type": "code",
   "execution_count": 29,
   "id": "f3704649-00c4-4e12-979d-13bbb5c05d68",
   "metadata": {},
   "outputs": [
    {
     "data": {
      "text/plain": [
       "matrix([[ 28,  52,  51,  18],\n",
       "        [ 35, 101,  93,  81],\n",
       "        [  7,  17,  16,  11]])"
      ]
     },
     "execution_count": 29,
     "metadata": {},
     "output_type": "execute_result"
    }
   ],
   "source": [
    "# 82. Generate two matrices `C` (3x2) and `D` (2x4) and perform matrix multiplication.\n",
    "\n",
    "C = np.matrix(np.random.randint(1,10,size = (3,2)))\n",
    "D = np.matrix(np.random.randint(1,10,size = (2,4)))\n",
    "C@D"
   ]
  },
  {
   "cell_type": "code",
   "execution_count": 28,
   "id": "26828257-4448-4be1-8b38-c2873d0b45c1",
   "metadata": {},
   "outputs": [
    {
     "data": {
      "text/plain": [
       "matrix([[2, 3, 7],\n",
       "        [4, 1, 5],\n",
       "        [4, 9, 2],\n",
       "        [5, 8, 6]])"
      ]
     },
     "execution_count": 28,
     "metadata": {},
     "output_type": "execute_result"
    }
   ],
   "source": [
    "# 83. Create a matrix `E` and find its transpose.\n",
    "\n",
    "E = np.matrix(np.random.randint(1,10,size = (3,4)))\n",
    "np.transpose(E)"
   ]
  },
  {
   "cell_type": "code",
   "execution_count": 26,
   "id": "ca5ef569-7522-46ca-a7af-9068b0f5e93e",
   "metadata": {},
   "outputs": [
    {
     "data": {
      "text/plain": [
       "-254.99999999999991"
      ]
     },
     "execution_count": 26,
     "metadata": {},
     "output_type": "execute_result"
    }
   ],
   "source": [
    "# 84. Generate a square matrix `F` and compute its determinant.\n",
    "\n",
    "F = np.matrix(np.random.randint(1,10,size = (4,4)))\n",
    "np.linalg.det(F)"
   ]
  },
  {
   "cell_type": "code",
   "execution_count": 25,
   "id": "5f17b183-90d3-4dec-bc3f-11d19deb4866",
   "metadata": {},
   "outputs": [
    {
     "data": {
      "text/plain": [
       "matrix([[-0.26285714,  0.37714286, -0.2       ,  0.6       ],\n",
       "        [-0.24571429, -0.12571429,  0.4       , -0.2       ],\n",
       "        [ 0.23428571, -0.20571429,  0.2       , -0.6       ],\n",
       "        [ 0.44571429, -0.07428571, -0.4       ,  0.2       ]])"
      ]
     },
     "execution_count": 25,
     "metadata": {},
     "output_type": "execute_result"
    }
   ],
   "source": [
    "# 85. Create a square matrix `G` and find its inverse.\n",
    "\n",
    "G = np.matrix(np.random.randint(1,10,size = (4,4)))\n",
    "np.linalg.inv(G)"
   ]
  }
 ],
 "metadata": {
  "kernelspec": {
   "display_name": "Python 3 (ipykernel)",
   "language": "python",
   "name": "python3"
  },
  "language_info": {
   "codemirror_mode": {
    "name": "ipython",
    "version": 3
   },
   "file_extension": ".py",
   "mimetype": "text/x-python",
   "name": "python",
   "nbconvert_exporter": "python",
   "pygments_lexer": "ipython3",
   "version": "3.10.8"
  }
 },
 "nbformat": 4,
 "nbformat_minor": 5
}
