{
 "cells": [
  {
   "cell_type": "code",
   "execution_count": 4,
   "id": "da906f3f-d751-459f-b36d-d5fd0de1cedc",
   "metadata": {},
   "outputs": [],
   "source": [
    "import numpy as np\n",
    "import pandas as pd"
   ]
  },
  {
   "cell_type": "code",
   "execution_count": 6,
   "id": "33ff6223-223d-4237-9d9b-6e60b84b9ac3",
   "metadata": {},
   "outputs": [
    {
     "data": {
      "text/plain": [
       "dtype('int64')"
      ]
     },
     "execution_count": 6,
     "metadata": {},
     "output_type": "execute_result"
    }
   ],
   "source": [
    "# 1. Create a NumPy array 'arr' of integers from 0 to 5 and print its data type.\n",
    "\n",
    "arr = np.array([0,1,2,3,4,5])\n",
    "arr.dtype"
   ]
  },
  {
   "cell_type": "code",
   "execution_count": 7,
   "id": "501bf142-2f02-4868-98c5-18113b2cbe67",
   "metadata": {},
   "outputs": [
    {
     "name": "stdout",
     "output_type": "stream",
     "text": [
      "yes\n"
     ]
    }
   ],
   "source": [
    "# 2. Given a NumPy array 'arr', check if its data type is float64. arr = np.array([1.5, 2.6, 3.7])\n",
    "\n",
    "arr = np.array([1.5, 2.6, 3.7])\n",
    "print(\"yes\" if arr.dtype == \"float64\" else \"no\")"
   ]
  },
  {
   "cell_type": "code",
   "execution_count": 10,
   "id": "9ed415f1-6c98-412f-b116-586de6ca7856",
   "metadata": {},
   "outputs": [
    {
     "data": {
      "text/plain": [
       "(array([2.+5.j, 8.-6.j, 4.+3.j]), dtype('complex128'))"
      ]
     },
     "execution_count": 10,
     "metadata": {},
     "output_type": "execute_result"
    }
   ],
   "source": [
    "# 3. Create a NumPy array 'arr' with a data type of complex128 containing three complex numbers.\n",
    "\n",
    "arr = np.array([2+5j,8-6j,4+3j])\n",
    "arr,arr.dtype"
   ]
  },
  {
   "cell_type": "code",
   "execution_count": 15,
   "id": "84a64738-65bd-4d24-951f-8e2786780555",
   "metadata": {},
   "outputs": [
    {
     "data": {
      "text/plain": [
       "dtype('float32')"
      ]
     },
     "execution_count": 15,
     "metadata": {},
     "output_type": "execute_result"
    }
   ],
   "source": [
    "# 4. Convert an existing NumPy array 'arr' of integers to float32 data type.\n",
    "\n",
    "arr = np.array([0,1,2,3,4,5])\n",
    "arr = arr.astype('float32')\n",
    "arr.dtype"
   ]
  },
  {
   "cell_type": "code",
   "execution_count": 16,
   "id": "6abaaaae-3bef-4a3c-8168-b743f424f385",
   "metadata": {},
   "outputs": [
    {
     "data": {
      "text/plain": [
       "dtype('float32')"
      ]
     },
     "execution_count": 16,
     "metadata": {},
     "output_type": "execute_result"
    }
   ],
   "source": [
    "# 5. Given a NumPy array 'arr' with float64 data type, convert it to float32 to reduce decimal precision.\n",
    "\n",
    "arr = np.array([1.5, 2.6, 3.7])\n",
    "arr = arr.astype(\"float32\")\n",
    "arr.dtype"
   ]
  },
  {
   "cell_type": "code",
   "execution_count": 20,
   "id": "c2dbf51d-89af-4b80-8f51-de890b33bc36",
   "metadata": {},
   "outputs": [
    {
     "name": "stdout",
     "output_type": "stream",
     "text": [
      "The shape of the array is : (3, 4), size of the array is : 12, data type of the array is : float64\n"
     ]
    }
   ],
   "source": [
    "# 6. Write a function array_attributes that takes a NumPy array as input and returns its shape, size, and datatype.\n",
    "\n",
    "def array_attributes(arr):\n",
    "    return (arr.shape,arr.size,arr.dtype)\n",
    "\n",
    "arr = np.linspace(2,9,12)\n",
    "arr = arr.reshape(3,4)\n",
    "shape, size, data_type = array_attributes(arr)\n",
    "print(f\"The shape of the array is : {shape}, size of the array is : {size}, data type of the array is : {data_type}\")"
   ]
  },
  {
   "cell_type": "code",
   "execution_count": 21,
   "id": "8797a5cd-3ebc-4bc5-8d8c-94d8c2fe4598",
   "metadata": {},
   "outputs": [
    {
     "name": "stdout",
     "output_type": "stream",
     "text": [
      "The dimension of this numpy array is : 3\n"
     ]
    }
   ],
   "source": [
    "# 7. Create a function array_dimension that takes a NumPy array as input and returns its dimensionality.\n",
    "\n",
    "def array_dimension(arr):\n",
    "    return arr.ndim\n",
    "\n",
    "arr = np.linspace(2,9,12)\n",
    "arr = arr.reshape(2,2,3)\n",
    "print(\"The dimension of this numpy array is :\", array_dimension(arr)) "
   ]
  },
  {
   "cell_type": "code",
   "execution_count": 35,
   "id": "9a77eca5-f8e5-433a-b37e-2127120a1659",
   "metadata": {},
   "outputs": [
    {
     "name": "stdout",
     "output_type": "stream",
     "text": [
      "The size of the array is : 12\n",
      "bytecode of total array is : b'\\x00\\x00\\x00\\x00\\x00\\x00\\x00@\\x17]t\\xd1E\\x17\\x05@.\\xba\\xe8\\xa2\\x8b.\\n@F\\x17]t\\xd1E\\x0f@.\\xba\\xe8\\xa2\\x8b.\\x12@\\xba\\xe8\\xa2\\x8b.\\xba\\x14@F\\x17]t\\xd1E\\x17@\\xd1E\\x17]t\\xd1\\x19@]t\\xd1E\\x17]\\x1c@\\xe9\\xa2\\x8b.\\xba\\xe8\\x1e@\\xba\\xe8\\xa2\\x8b.\\xba @\\x00\\x00\\x00\\x00\\x00\\x00\"@'\n"
     ]
    }
   ],
   "source": [
    "# 8. Design a function item_size_info that takes a NumPy array as input and returns the item size and the total size in bytes.\n",
    "\n",
    "def item_size_info(arr):\n",
    "    return arr.size, arr.tobytes()\n",
    "\n",
    "arr = np.linspace(2,9,12)\n",
    "arr = arr.reshape(3,4)\n",
    "size, bytecode = item_size_info(arr)\n",
    "print(f\"The size of the array is : {size}\")\n",
    "print(f\"bytecode of total array is : {bytecode}\")"
   ]
  },
  {
   "cell_type": "code",
   "execution_count": 39,
   "id": "37748425-229c-47a9-9bcd-2d62c919e3a7",
   "metadata": {},
   "outputs": [
    {
     "name": "stdout",
     "output_type": "stream",
     "text": [
      "The strides of this array is : (48, 24, 8)\n"
     ]
    }
   ],
   "source": [
    "# 9. Create a function array_strides that takes a NumPy array as input and returns the strides of the array.\n",
    "\n",
    "def array_strides(arr):\n",
    "    return arr.strides\n",
    "\n",
    "arr = np.linspace(2,9,12)\n",
    "arr = arr.reshape(2,2,3)\n",
    "print(\"The strides of this array is :\",array_strides(arr))"
   ]
  },
  {
   "cell_type": "code",
   "execution_count": 3,
   "id": "73be8926-b33d-49aa-870b-a5e48c8d175b",
   "metadata": {},
   "outputs": [
    {
     "name": "stdout",
     "output_type": "stream",
     "text": [
      "The size of this array is : (2, 2, 3)\n",
      "The strides of this array is : (48, 24, 8)\n"
     ]
    }
   ],
   "source": [
    "# 10. Design a function shape_stride_relationship that takes a NumPy array as input and returns the shape and strides of the array.\n",
    "\n",
    "def shape_stride_relationship(arr):\n",
    "    return arr.shape,arr.strides\n",
    "\n",
    "arr = np.linspace(2,9,12)\n",
    "arr = arr.reshape(2,2,3)\n",
    "size, strides = shape_stride_relationship(arr)\n",
    "print(\"The size of this array is :\",size)\n",
    "print(\"The strides of this array is :\",strides)"
   ]
  },
  {
   "cell_type": "code",
   "execution_count": 7,
   "id": "bd343741-8883-429a-b1cf-1fc050cdff02",
   "metadata": {},
   "outputs": [
    {
     "data": {
      "text/plain": [
       "array([0., 0., 0., 0., 0.])"
      ]
     },
     "execution_count": 7,
     "metadata": {},
     "output_type": "execute_result"
    }
   ],
   "source": [
    "# 11. Create a function `create_zeros_array` that takes an integer `n` as input and returns a NumPy array of zeros with `n` elements.\n",
    "\n",
    "def create_zeros_array(n):\n",
    "    return np.zeros(n)\n",
    "\n",
    "create_zeros_array(5)"
   ]
  },
  {
   "cell_type": "code",
   "execution_count": 8,
   "id": "07859820-03d5-4512-8e7d-3c45797c8fea",
   "metadata": {},
   "outputs": [
    {
     "data": {
      "text/plain": [
       "array([[1., 1., 1., 1., 1.],\n",
       "       [1., 1., 1., 1., 1.],\n",
       "       [1., 1., 1., 1., 1.],\n",
       "       [1., 1., 1., 1., 1.]])"
      ]
     },
     "execution_count": 8,
     "metadata": {},
     "output_type": "execute_result"
    }
   ],
   "source": [
    "# 12. Write a function `create_ones_matrix` that takes integers `rows` and `cols` as inputs and generates a 2D \n",
    "# NumPy array filled with ones of size `rows x cols`.\n",
    "\n",
    "def create_zeros_array(rows,cols):\n",
    "    return np.ones((rows,cols))\n",
    "\n",
    "create_zeros_array(4,5)"
   ]
  },
  {
   "cell_type": "code",
   "execution_count": 10,
   "id": "1d7d971b-b973-47ee-b76c-65dbdbf20f01",
   "metadata": {},
   "outputs": [
    {
     "data": {
      "text/plain": [
       "array([ 1,  3,  5,  7,  9, 11, 13, 15, 17, 19])"
      ]
     },
     "execution_count": 10,
     "metadata": {},
     "output_type": "execute_result"
    }
   ],
   "source": [
    "# 13. Write a function `generate_range_array` that takes three integers start, stop, and step as arguments and\n",
    "# creates a NumPy array with a range starting from `start`, ending at stop (exclusive), and with the specified `step`.\n",
    "\n",
    "def generate_range_array(start,stop,step):\n",
    "    return np.arange(start,stop,step)\n",
    "    \n",
    "generate_range_array(1,20,2)"
   ]
  },
  {
   "cell_type": "code",
   "execution_count": 13,
   "id": "6846fa0b-a936-418c-8203-deb99092564a",
   "metadata": {},
   "outputs": [
    {
     "data": {
      "text/plain": [
       "array([ 1.        ,  2.72727273,  4.45454545,  6.18181818,  7.90909091,\n",
       "        9.63636364, 11.36363636, 13.09090909, 14.81818182, 16.54545455,\n",
       "       18.27272727, 20.        ])"
      ]
     },
     "execution_count": 13,
     "metadata": {},
     "output_type": "execute_result"
    }
   ],
   "source": [
    "# 14. Design a function `generate_linear_space` that takes two floats `start`, `stop`, and an integer `num` as\n",
    "# arguments and generates a NumPy array with num equally spaced values between `start` and `stop` (inclusive).\n",
    "\n",
    "def generate_linear_space(start,stop,num):\n",
    "    return np.linspace(start,stop,num)\n",
    "\n",
    "generate_linear_space(1,20,12)"
   ]
  },
  {
   "cell_type": "code",
   "execution_count": 14,
   "id": "48ba4318-6fa1-4461-824e-f5e16536f228",
   "metadata": {},
   "outputs": [
    {
     "data": {
      "text/plain": [
       "array([[1., 0., 0., 0., 0.],\n",
       "       [0., 1., 0., 0., 0.],\n",
       "       [0., 0., 1., 0., 0.],\n",
       "       [0., 0., 0., 1., 0.],\n",
       "       [0., 0., 0., 0., 1.]])"
      ]
     },
     "execution_count": 14,
     "metadata": {},
     "output_type": "execute_result"
    }
   ],
   "source": [
    "# 15. Create a function `create_identity_matrix` that takes an integer `n` as input and generates a square \n",
    "# identity matrix of size `n x n` using `numpy.eye`.\n",
    "\n",
    "def create_identity_matrix(n):\n",
    "    return np.eye(n)\n",
    "\n",
    "create_identity_matrix(5)"
   ]
  },
  {
   "cell_type": "code",
   "execution_count": 15,
   "id": "13b6a9ca-82ec-4148-a090-b21a97256339",
   "metadata": {},
   "outputs": [
    {
     "data": {
      "text/plain": [
       "array([2, 3, 4, 5, 6])"
      ]
     },
     "execution_count": 15,
     "metadata": {},
     "output_type": "execute_result"
    }
   ],
   "source": [
    "# 16. Write a function that takes a Python list and converts it into a NumPy array.\n",
    "\n",
    "def to_array(lis):\n",
    "    return np.array(lis)\n",
    "\n",
    "to_array([2,3,4,5,6])"
   ]
  },
  {
   "cell_type": "code",
   "execution_count": 28,
   "id": "d85a7a55-5ba5-4588-8fbb-cc71e9f1eb45",
   "metadata": {},
   "outputs": [
    {
     "data": {
      "text/plain": [
       "(array([2, 3, 1, 5, 6]), array([2, 3, 1, 5, 6]))"
      ]
     },
     "execution_count": 28,
     "metadata": {},
     "output_type": "execute_result"
    }
   ],
   "source": [
    "# 17. Create a NumPy array and demonstrate the use of `numpy.view` to create a new array object with the same data.\n",
    "\n",
    "arr1 = np.array([2, 3, 4, 5, 7])\n",
    "arr2 = arr1.view()\n",
    "arr2[2] = 1\n",
    "arr1[4] = 6\n",
    "arr2,arr1"
   ]
  },
  {
   "cell_type": "code",
   "execution_count": 38,
   "id": "71e90a62-cb75-48a8-a08f-620c93e53541",
   "metadata": {},
   "outputs": [
    {
     "name": "stdout",
     "output_type": "stream",
     "text": [
      "rowwise concatenation : [[4 7]\n",
      " [1 6]\n",
      " [2 3]]\n",
      "columnwise concatenation : [[4 7 2]\n",
      " [1 6 3]]\n"
     ]
    }
   ],
   "source": [
    "# 18. Write a function that takes two NumPy arrays and concatenates them along a specified axis.\n",
    "\n",
    "def array_concatenation(arr1,arr2):\n",
    "    return np.concatenate((arr1,arr2),axis = 0),np.concatenate((arr1,arr2.T),axis = 1)\n",
    "\n",
    "arr1 = np.array([[4, 7],[1, 6]])\n",
    "arr2 = np.array([[2,3]])\n",
    "axis_0,axis_1 = array_concatenation(arr1,arr2)\n",
    "print(\"rowwise concatenation :\",axis_0)\n",
    "print(\"columnwise concatenation :\",axis_1)"
   ]
  },
  {
   "cell_type": "code",
   "execution_count": null,
   "id": "beea3267-8611-471b-945a-ac419bf0f021",
   "metadata": {},
   "outputs": [],
   "source": [
    "# 19. Create two NumPy arrays with different shapes and concatenate them horizontally using `numpy concatenate`.\n",
    "\n",
    "def horizontal_concatenation(arr1,arr2):\n",
    "    return np.concatenate((arr1,arr2.T),axis = 1)\n",
    "\n",
    "arr1 = np.array([[4, 7],[1, 6]])\n",
    "arr2 = np.array([[2,3]])\n",
    "print(\"horizontal concatenation :\",array_concatenation(arr1,arr2))"
   ]
  },
  {
   "cell_type": "code",
   "execution_count": 6,
   "id": "fbd9b551-c6d9-4064-99cc-1fec387c0a7c",
   "metadata": {},
   "outputs": [
    {
     "data": {
      "text/plain": [
       "array([[2, 3],\n",
       "       [4, 5],\n",
       "       [7, 8]])"
      ]
     },
     "execution_count": 6,
     "metadata": {},
     "output_type": "execute_result"
    }
   ],
   "source": [
    "# 20. Write a function that vertically stacks multiple NumPy arrays given as a list.\n",
    "\n",
    "def vertically_stacks(*lis):\n",
    "    if len(lis)==0: return \"invalid\"\n",
    "    if len(lis)==1:return np.array(lis[0]) \n",
    "    arr = np.concatenate((np.array(lis[0]),np.array(lis[1])),axis = 0)\n",
    "    for i in range(2,len(lis)):\n",
    "        arr = np.concatenate((arr,np.array(lis[i])),axis = 0)\n",
    "    return arr\n",
    "\n",
    "vertically_stacks([[2,3]],[[4,5]],[[7,8]])"
   ]
  },
  {
   "cell_type": "code",
   "execution_count": 9,
   "id": "f290a309-ec51-4543-970a-12110f0ace4e",
   "metadata": {},
   "outputs": [
    {
     "data": {
      "text/plain": [
       "array([ 0,  2,  4,  6,  8, 10, 12, 14, 16, 18, 20])"
      ]
     },
     "execution_count": 9,
     "metadata": {},
     "output_type": "execute_result"
    }
   ],
   "source": [
    "# 21. Write a Python function using NumPy to create an array of integers within a specified range (inclusive) with a given step size.\n",
    "\n",
    "def range_array(start,stop,step):\n",
    "    return np.arange(start,stop+1,step)\n",
    "\n",
    "range_array(0,20,2)"
   ]
  },
  {
   "cell_type": "code",
   "execution_count": 10,
   "id": "00131d4b-651b-4338-b9ec-480b1cac89e6",
   "metadata": {},
   "outputs": [
    {
     "data": {
      "text/plain": [
       "array([0.        , 0.11111111, 0.22222222, 0.33333333, 0.44444444,\n",
       "       0.55555556, 0.66666667, 0.77777778, 0.88888889, 1.        ])"
      ]
     },
     "execution_count": 10,
     "metadata": {},
     "output_type": "execute_result"
    }
   ],
   "source": [
    "# 22. Write a Python function using NumPy to generate an array of 10 equally spaced values between 0 and 1 (inclusive).\n",
    "\n",
    "def equally_spaced_values():\n",
    "    return np.linspace(0,1,10)\n",
    "\n",
    "equally_spaced_values()"
   ]
  },
  {
   "cell_type": "code",
   "execution_count": 15,
   "id": "1918ccc2-09a9-452c-8e5d-91f4995baf52",
   "metadata": {},
   "outputs": [
    {
     "data": {
      "text/plain": [
       "array([   1.        ,    5.62341325,   31.6227766 ,  177.827941  ,\n",
       "       1000.        ])"
      ]
     },
     "execution_count": 15,
     "metadata": {},
     "output_type": "execute_result"
    }
   ],
   "source": [
    "# 23. Write a Python function using NumPy to create an array of 5 logarithmically spaced values between 1 and 1000 (inclusive).\n",
    "\n",
    "def logarithmically_spaced_values():\n",
    "    return np.logspace(0,3,5)\n",
    "\n",
    "logarithmically_spaced_values()"
   ]
  },
  {
   "cell_type": "code",
   "execution_count": 8,
   "id": "ce23e5b4-5efe-46db-abeb-85efb5bcb0ea",
   "metadata": {},
   "outputs": [
    {
     "data": {
      "text/html": [
       "<div>\n",
       "<style scoped>\n",
       "    .dataframe tbody tr th:only-of-type {\n",
       "        vertical-align: middle;\n",
       "    }\n",
       "\n",
       "    .dataframe tbody tr th {\n",
       "        vertical-align: top;\n",
       "    }\n",
       "\n",
       "    .dataframe thead th {\n",
       "        text-align: right;\n",
       "    }\n",
       "</style>\n",
       "<table border=\"1\" class=\"dataframe\">\n",
       "  <thead>\n",
       "    <tr style=\"text-align: right;\">\n",
       "      <th></th>\n",
       "      <th>key1</th>\n",
       "      <th>key2</th>\n",
       "      <th>key3</th>\n",
       "    </tr>\n",
       "  </thead>\n",
       "  <tbody>\n",
       "    <tr>\n",
       "      <th>0</th>\n",
       "      <td>35</td>\n",
       "      <td>87</td>\n",
       "      <td>92</td>\n",
       "    </tr>\n",
       "    <tr>\n",
       "      <th>1</th>\n",
       "      <td>85</td>\n",
       "      <td>99</td>\n",
       "      <td>25</td>\n",
       "    </tr>\n",
       "    <tr>\n",
       "      <th>2</th>\n",
       "      <td>81</td>\n",
       "      <td>6</td>\n",
       "      <td>41</td>\n",
       "    </tr>\n",
       "    <tr>\n",
       "      <th>3</th>\n",
       "      <td>3</td>\n",
       "      <td>43</td>\n",
       "      <td>72</td>\n",
       "    </tr>\n",
       "    <tr>\n",
       "      <th>4</th>\n",
       "      <td>24</td>\n",
       "      <td>41</td>\n",
       "      <td>38</td>\n",
       "    </tr>\n",
       "  </tbody>\n",
       "</table>\n",
       "</div>"
      ],
      "text/plain": [
       "   key1  key2  key3\n",
       "0    35    87    92\n",
       "1    85    99    25\n",
       "2    81     6    41\n",
       "3     3    43    72\n",
       "4    24    41    38"
      ]
     },
     "execution_count": 8,
     "metadata": {},
     "output_type": "execute_result"
    }
   ],
   "source": [
    "# 24. Create a Pandas DataFrame using a NumPy array that contains 5 rows and 3 columns, where the values are random integers between 1 \n",
    "# and 100.\n",
    "arr = np.random.randint(1,100,size = (5,3))\n",
    "df = pd.DataFrame(arr,columns = ['key1','key2','key3'])\n",
    "df"
   ]
  },
  {
   "cell_type": "code",
   "execution_count": null,
   "id": "16d39a54-330b-45b1-8d84-7797ff3b139d",
   "metadata": {},
   "outputs": [],
   "source": [
    "# 25. Write a function that takes a Pandas DataFrame and replaces all negative values in a specific column \n",
    "# with zeros. Use NumPy operations within the Pandas DataFrame."
   ]
  },
  {
   "cell_type": "code",
   "execution_count": 9,
   "id": "1b610695-b55d-488e-aed2-df588c050298",
   "metadata": {},
   "outputs": [
    {
     "name": "stdout",
     "output_type": "stream",
     "text": [
      "30\n"
     ]
    }
   ],
   "source": [
    "# 26. Access the 3rd element from the given NumPy array. arr = np.array([10, 20, 30, 40, 50])\n",
    "\n",
    "arr = np.array([10, 20, 30, 40, 50])\n",
    "print(arr[2])"
   ]
  },
  {
   "cell_type": "code",
   "execution_count": 12,
   "id": "c2201434-114c-421b-962f-b044b4f30b95",
   "metadata": {},
   "outputs": [
    {
     "data": {
      "text/plain": [
       "6"
      ]
     },
     "execution_count": 12,
     "metadata": {},
     "output_type": "execute_result"
    }
   ],
   "source": [
    "# 27. Retrieve the element at index (1, 2) from the 2D NumPy array. arr_2d = np.array([[1, 2, 3],[4, 5, 6],[7, 8, 9]])\n",
    "\n",
    "arr_2d = np.array([[1, 2, 3],[4, 5, 6],[7, 8, 9]])\n",
    "arr_2d[1][2]"
   ]
  },
  {
   "cell_type": "code",
   "execution_count": 13,
   "id": "0d86c32f-cb05-4b4b-932e-e045d432d91d",
   "metadata": {},
   "outputs": [
    {
     "data": {
      "text/plain": [
       "array([ 8, 10,  7])"
      ]
     },
     "execution_count": 13,
     "metadata": {},
     "output_type": "execute_result"
    }
   ],
   "source": [
    "# 28. Using boolean indexing, extract elements greater than 5 from the given NumPy array. arr = np.array([3, 8, 2, 10, 5, 7])\n",
    "\n",
    "arr = np.array([3, 8, 2, 10, 5, 7])\n",
    "np.extract(arr>5,arr)"
   ]
  },
  {
   "cell_type": "code",
   "execution_count": 14,
   "id": "d7fd6fa5-b4e1-48cd-b9a6-cb41ba69fdf8",
   "metadata": {},
   "outputs": [
    {
     "data": {
      "text/plain": [
       "array([3, 4, 5, 6])"
      ]
     },
     "execution_count": 14,
     "metadata": {},
     "output_type": "execute_result"
    }
   ],
   "source": [
    "# 29. Perform basic slicing to extract elements from index 2 to 5 (inclusive) from the given NumPy array. \n",
    "# arr = np.array([1, 2, 3, 4, 5, 6, 7, 8, 9])\n",
    "\n",
    "arr = np.array([1, 2, 3, 4, 5, 6, 7, 8, 9])\n",
    "arr[2:6]"
   ]
  },
  {
   "cell_type": "code",
   "execution_count": 20,
   "id": "099b2f67-8dc5-45c8-a217-5f169aa6a19e",
   "metadata": {},
   "outputs": [
    {
     "data": {
      "text/plain": [
       "array([[2, 3],\n",
       "       [5, 6]])"
      ]
     },
     "execution_count": 20,
     "metadata": {},
     "output_type": "execute_result"
    }
   ],
   "source": [
    "# 30. Slice the 2D NumPy array to extract the sub-array `[[2, 3], [5, 6]]` from the given array. \n",
    "#arr_2d = np.array([[1, 2, 3],[4, 5, 6],[7, 8, 9]])\n",
    "\n",
    "arr_2d = np.array([[1, 2, 3],[4, 5, 6],[7, 8, 9]])\n",
    "arr_2d[0:2,1:3]"
   ]
  },
  {
   "cell_type": "code",
   "execution_count": null,
   "id": "1bfbf57e-c793-4ea8-87a5-6fd4540334fd",
   "metadata": {},
   "outputs": [],
   "source": [
    "# 31.Write a NumPy function to extract elements in specific order from a given 2D array based on indices provided in another array"
   ]
  },
  {
   "cell_type": "code",
   "execution_count": null,
   "id": "5ced852e-ea03-4162-8a1b-8f48a506e486",
   "metadata": {},
   "outputs": [],
   "source": [
    "# 32. Create a NumPy function that filters elements greater than a threshold from a given 1D array using boolean indexing."
   ]
  },
  {
   "cell_type": "code",
   "execution_count": null,
   "id": "4648d7d8-c648-4515-99a7-4442da614d3d",
   "metadata": {},
   "outputs": [],
   "source": [
    "# 33. Develop a NumPy function that extracts specific elements from a 3D array using indices provided in three separate arrays for each dimension."
   ]
  },
  {
   "cell_type": "code",
   "execution_count": null,
   "id": "752c376c-0e1b-470b-a309-0d90e98f42e1",
   "metadata": {},
   "outputs": [],
   "source": [
    "# 34. Write a NumPy function that returns elements from an array where both two conditions are satisfied using boolean indexing."
   ]
  },
  {
   "cell_type": "code",
   "execution_count": null,
   "id": "0c92ee97-bf8e-4a4f-a375-f449ec917002",
   "metadata": {},
   "outputs": [],
   "source": [
    "# 35. Create a NumPy function that extracts elements from a 2D array using row and column indices provided in separate arrays."
   ]
  },
  {
   "cell_type": "code",
   "execution_count": null,
   "id": "25ee56ce-c2ae-46c6-8c76-123091848564",
   "metadata": {},
   "outputs": [],
   "source": [
    "# 36. Given an array arr of shape (3, 3), add a scalar value of 5 to each element using NumPy broadcasting."
   ]
  },
  {
   "cell_type": "code",
   "execution_count": null,
   "id": "5a0eb9c0-0624-4434-8364-1082e28b2469",
   "metadata": {},
   "outputs": [],
   "source": [
    "# 37. Consider two arrays arr1 of shape (1, 3) and arr2 of shape (3, 4). Multiply each row of arr2 by the \n",
    "# corresponding element in arr1 using NumPy broadcasting."
   ]
  },
  {
   "cell_type": "code",
   "execution_count": null,
   "id": "fa9ae0a5-63b1-4b7d-a612-4ef435395624",
   "metadata": {},
   "outputs": [],
   "source": [
    "# 38. Given a 1D array arr1 of shape (1, 4) and a 2D array arr2 of shape (4, 3), add arr1 to each row of arr2 using NumPy broadcasting."
   ]
  },
  {
   "cell_type": "code",
   "execution_count": null,
   "id": "96b135b3-9243-484b-9306-ee35dd1ebe57",
   "metadata": {},
   "outputs": [],
   "source": [
    "# 39. Consider two arrays arr1 of shape (3, 1) and arr2 of shape (1, 3). Add these arrays using NumPy broadcasting."
   ]
  },
  {
   "cell_type": "code",
   "execution_count": null,
   "id": "2979095e-2881-40a2-8b26-14088b840fa8",
   "metadata": {},
   "outputs": [],
   "source": [
    "# 40. Given arrays arr1 of shape (2, 3) and arr2 of shape (2, 2), perform multiplication using NumPy broadcasting. Handle the shape incompatibility."
   ]
  },
  {
   "cell_type": "code",
   "execution_count": null,
   "id": "5de62bfc-7f2c-4483-a766-3927f086aeca",
   "metadata": {},
   "outputs": [],
   "source": [
    "# 41. Calculate column wise mean for the given array: arr = np.array([[1, 2, 3], [4, 5, 6]])\n"
   ]
  },
  {
   "cell_type": "code",
   "execution_count": null,
   "id": "da109b4b-4df5-4518-a907-2fa0271a17ca",
   "metadata": {},
   "outputs": [],
   "source": [
    "# 42. Find maximum value in each row of the given array: arr = np.array([[1, 2, 3], [4, 5, 6]])"
   ]
  },
  {
   "cell_type": "code",
   "execution_count": null,
   "id": "e3efdc44-f793-44ed-9988-297d59e9b3fb",
   "metadata": {},
   "outputs": [],
   "source": [
    "# 43. For the given array, find indices of maximum value in each column. arr = np.array([[1, 2, 3], [4, 5, 6]])"
   ]
  },
  {
   "cell_type": "code",
   "execution_count": null,
   "id": "5850f4f8-3f1e-456a-8180-ba3d3098fac8",
   "metadata": {},
   "outputs": [],
   "source": [
    "# 44. For the given array, apply custom function to calculate moving sum along rows. arr = np.array([[1, 2, 3], [4, 5, 6]])"
   ]
  },
  {
   "cell_type": "code",
   "execution_count": null,
   "id": "2fa4c5da-fb28-4139-b7a3-6b36eaca689c",
   "metadata": {},
   "outputs": [],
   "source": [
    "# 45. In the given array, check if all elements in each column are even. arr = np.array([[2, 4, 6], [3, 5, 7]])"
   ]
  },
  {
   "cell_type": "code",
   "execution_count": null,
   "id": "78a9ab6a-6dd3-470b-8623-bb1e7ab33376",
   "metadata": {},
   "outputs": [],
   "source": [
    "# 46. Given a NumPy array arr, reshape it into a matrix of dimensions `m` rows and `n` columns. Return the reshaped matrix. \n",
    "# original_array = np.array([1, 2, 3, 4, 5, 6])"
   ]
  },
  {
   "cell_type": "code",
   "execution_count": null,
   "id": "e7724940-51d5-4c07-8e7c-ac07a83feecb",
   "metadata": {},
   "outputs": [],
   "source": [
    "# 47. Create a function that takes a matrix as input and returns the flattened array. input_matrix = np.array([[1, 2, 3], [4, 5, 6]])"
   ]
  },
  {
   "cell_type": "code",
   "execution_count": null,
   "id": "6c2cc7b3-1201-417b-980e-0d6f98ebfaa8",
   "metadata": {},
   "outputs": [],
   "source": [
    "# 48. Write a function that concatenates two given arrays along a specified axis. array1 = np.array([[1, 2], [3, 4]]) \n",
    "# array2 = np.array([[5, 6], [7, 8]])"
   ]
  },
  {
   "cell_type": "code",
   "execution_count": null,
   "id": "147f4ada-8aa8-4f59-8977-b8ad5816dee6",
   "metadata": {},
   "outputs": [],
   "source": [
    "# 49. Create a function that splits an array into multiple sub-arrays along a specified axis.\n",
    "# original_array = np.array([[1, 2, 3], [4, 5, 6], [7, 8, 9]])"
   ]
  },
  {
   "cell_type": "code",
   "execution_count": null,
   "id": "dd15b324-a834-415e-a4fc-dca8186b66dd",
   "metadata": {},
   "outputs": [],
   "source": [
    "# 50. Write a function that inserts and then deletes elements from a given array at specified indices. original_array = np.array([1, 2, 3, 4, 5])\n",
    "# indices_to_insert = [2, 4]\n",
    "# values_to_insert = [10, 11]\n",
    "# indices_to_delete = [1, 3]"
   ]
  },
  {
   "cell_type": "code",
   "execution_count": null,
   "id": "01601b38-1f0b-4f79-bebc-3ccf4393c905",
   "metadata": {},
   "outputs": [],
   "source": [
    "# 51. Create a NumPy array `arr1` with random integers and another array `arr2` with integers from 1 to 10. \n",
    "# Perform element-wise addition between `arr1` and `arr2`."
   ]
  },
  {
   "cell_type": "code",
   "execution_count": null,
   "id": "ef25aedb-7e1e-4beb-a51a-28c67666c062",
   "metadata": {},
   "outputs": [],
   "source": [
    "# 52. Generate a NumPy array `arr1` with sequential integers from 10 to 1 and another array `arr2` with integers\n",
    "# from 1 to 10. Subtract `arr2` from `arr1` element-wise."
   ]
  },
  {
   "cell_type": "code",
   "execution_count": null,
   "id": "24734f5f-3146-4ba7-a07b-31ef7412c4bd",
   "metadata": {},
   "outputs": [],
   "source": [
    "# 53. Create a NumPy array `arr1` with random integers and another array `arr2` with integers from 1 to 5.\n",
    "# Perform element-wise multiplication between `arr1` and `arr2`."
   ]
  },
  {
   "cell_type": "code",
   "execution_count": null,
   "id": "56a09d2b-30c9-40e8-8899-f37fd5712ab0",
   "metadata": {},
   "outputs": [],
   "source": [
    "# 54. Generate a NumPy array `arr1` with even integers from 2 to 10 and another array `arr2` with integers from 1\n",
    "# to 5. Perform element-wise division of `arr1` by `arr2`."
   ]
  },
  {
   "cell_type": "code",
   "execution_count": null,
   "id": "ae9c7dd7-1ed2-4db1-bfd5-5d647f5cb870",
   "metadata": {},
   "outputs": [],
   "source": [
    "# 55. Create a NumPy array `arr1` with integers from 1 to 5 and another array `arr2` with the same numbers\n",
    "# reversed. Calculate the exponentiation of `arr1` raised to the power of `arr2` element-wise."
   ]
  },
  {
   "cell_type": "code",
   "execution_count": null,
   "id": "233f5625-96cf-4c1d-b5bc-7ff686bb4567",
   "metadata": {},
   "outputs": [],
   "source": [
    "# 56. Write a function that counts the occurrences of a specific substring within a NumPy array of strings. \n",
    "# arr = np.array(['hello', 'world', 'hello', 'numpy', 'hello'])"
   ]
  },
  {
   "cell_type": "code",
   "execution_count": null,
   "id": "c0ff3c9d-362b-40f0-bece-2a6b79d8db33",
   "metadata": {},
   "outputs": [],
   "source": [
    "# 57. Write a function that extracts uppercase characters from a NumPy array of strings.\n",
    "# arr = np.array(['Hello', 'World', 'OpenAI', 'GPT'])"
   ]
  },
  {
   "cell_type": "code",
   "execution_count": null,
   "id": "62c29180-23ce-440c-9377-bf5b17ec2de9",
   "metadata": {},
   "outputs": [],
   "source": [
    "# 58. Write a function that replaces occurrences of a substring in a NumPy array of strings with a new string. \n",
    "# arr = np.array(['apple', 'banana', 'grape', 'pineapple'])"
   ]
  },
  {
   "cell_type": "code",
   "execution_count": null,
   "id": "4c26812c-06f1-429a-92f8-3ece29297f46",
   "metadata": {},
   "outputs": [],
   "source": [
    "# 59. Write a function that concatenates strings in a NumPy array element-wise. arr1 = np.array(['Hello', 'World']) arr2 = np.array(['Open', 'AI'])"
   ]
  },
  {
   "cell_type": "code",
   "execution_count": null,
   "id": "fda7d1dc-1c40-4784-ad0b-77f3027be42c",
   "metadata": {},
   "outputs": [],
   "source": [
    "# 60. Write a function that finds the length of the longest string in a NumPy array. arr = np.array(['apple', 'banana', 'grape', 'pineapple'])"
   ]
  },
  {
   "cell_type": "code",
   "execution_count": null,
   "id": "f00ae33d-b204-4666-a464-cee9bac9660b",
   "metadata": {},
   "outputs": [],
   "source": [
    "# 61. Create a dataset of 100 random integers between 1 and 1000. Compute the mean, median, variance, and \n",
    "# standard deviation of the dataset using NumPy's functions."
   ]
  },
  {
   "cell_type": "code",
   "execution_count": null,
   "id": "d8a7a5bb-f065-456c-a34f-d311d9a08aea",
   "metadata": {},
   "outputs": [],
   "source": [
    "# 62. Generate an array of 50 random numbers between 1 and 100. Find the 25th and 75th percentiles of the dataset"
   ]
  },
  {
   "cell_type": "code",
   "execution_count": null,
   "id": "b44640d2-f2da-4125-92d2-7b18f1d12b31",
   "metadata": {},
   "outputs": [],
   "source": [
    "# 63. Create two arrays representing two sets of variables. Compute the correlation coefficient between these arrays using NumPy's `corrcoef` function."
   ]
  },
  {
   "cell_type": "code",
   "execution_count": null,
   "id": "6a9b2966-b198-42b4-ad2d-624a3c5106b7",
   "metadata": {},
   "outputs": [],
   "source": [
    "# 64. Create two matrices and perform matrix multiplication using NumPy's `dot` function."
   ]
  },
  {
   "cell_type": "code",
   "execution_count": null,
   "id": "c0ff0a67-25dd-485f-b483-781d149522d0",
   "metadata": {},
   "outputs": [],
   "source": [
    "# 65. Create an array of 50 integers between 10 and 1000. Calculate the 10th, 50th (median), and 90th \n",
    "# percentiles along with the first and third quartiles."
   ]
  },
  {
   "cell_type": "code",
   "execution_count": null,
   "id": "537f4944-49d3-4de8-9f3e-524118b0e68c",
   "metadata": {},
   "outputs": [],
   "source": [
    "# 66. Create a NumPy array of integers and find the index of a specific element."
   ]
  },
  {
   "cell_type": "code",
   "execution_count": null,
   "id": "58ccc6ca-fcfa-431c-a4ed-65affe19c9b2",
   "metadata": {},
   "outputs": [],
   "source": [
    "# 67. Generate a random NumPy array and sort it in ascending order."
   ]
  },
  {
   "cell_type": "code",
   "execution_count": null,
   "id": "46e6374d-8eaa-42ad-af34-837eba70daa7",
   "metadata": {},
   "outputs": [],
   "source": [
    "# 68. Filter elements >20  in the given NumPy array. arr = np.array([12, 25, 6, 42, 8, 30])"
   ]
  },
  {
   "cell_type": "code",
   "execution_count": null,
   "id": "d0cfe923-03ff-4dbd-b48a-cd4c7cfa55ea",
   "metadata": {},
   "outputs": [],
   "source": [
    "# 69. Filter elements which are divisible by 3 from a given NumPy array. arr = np.array([1, 5, 8, 12, 15])"
   ]
  },
  {
   "cell_type": "code",
   "execution_count": null,
   "id": "eb4aa87b-45ce-4f6e-a3ff-c7fee478e38a",
   "metadata": {},
   "outputs": [],
   "source": [
    "# 70. Filter elements which are ≥ 20 and ≤ 40 from a given NumPy array. arr = np.array([10, 20, 30, 40, 50])"
   ]
  },
  {
   "cell_type": "code",
   "execution_count": null,
   "id": "041b95ec-a2c1-49e9-9f1c-5649c6cecb97",
   "metadata": {},
   "outputs": [],
   "source": [
    "# 71. For the given NumPy array, check its byte order using the `dtype` attribute byteorder. arr = np.array([1, 2, 3])"
   ]
  },
  {
   "cell_type": "code",
   "execution_count": null,
   "id": "eb3d91a9-85c5-48c8-99c4-3f1809874a4d",
   "metadata": {},
   "outputs": [],
   "source": [
    "# 72. For the given NumPy array, perform byte swapping in place using `byteswap()`. arr = np.array([1, 2, 3], dtype=np.int32)"
   ]
  },
  {
   "cell_type": "code",
   "execution_count": null,
   "id": "75578918-557b-40e7-a012-5362c1eb9eb8",
   "metadata": {},
   "outputs": [],
   "source": [
    "# 73. For the given NumPy array, swap its byte order without modifying the original array using `newbyteorder()`. \n",
    "# arr = np.array([1, 2, 3], dtype=np.int32)"
   ]
  },
  {
   "cell_type": "code",
   "execution_count": null,
   "id": "baf7face-a70f-4fd2-9e59-c963470b9883",
   "metadata": {},
   "outputs": [],
   "source": [
    "# 74. For the given NumPy array and swap its byte order conditionally based on system endianness using `newbyteorder()`. \n",
    "# arr = np.array([1, 2, 3], dtype=np.int32)"
   ]
  },
  {
   "cell_type": "code",
   "execution_count": null,
   "id": "ad0b6996-5f5e-4aaf-ba6e-f90b8a215036",
   "metadata": {},
   "outputs": [],
   "source": [
    "# 75. For the given NumPy array, check if byte swapping is necessary for the current system using `dtype` attribute `byteorder`. \n",
    "# arr = np.array([1, 2, 3], dtype=np.int32)"
   ]
  },
  {
   "cell_type": "code",
   "execution_count": null,
   "id": "db385847-5cab-4e61-a99f-a3c0d3489dd3",
   "metadata": {},
   "outputs": [],
   "source": [
    "# 76. Create a NumPy array `arr1` with values from 1 to 10. Create a copy of `arr1` named `copy_arr` and modify \n",
    "# an element in `copy_arr`. Check if modifying `copy_arr` affects `arr1`."
   ]
  },
  {
   "cell_type": "code",
   "execution_count": null,
   "id": "0c469aef-b01f-44c5-93bf-31f3461260c4",
   "metadata": {},
   "outputs": [],
   "source": [
    "# 77. Create a 2D NumPy array `matrix` of shape (3, 3) with random integers. Extract a slice `view_slice` from\n",
    "# the matrix. Modify an element in `view_slice` and observe if it changes the original `matrix`."
   ]
  },
  {
   "cell_type": "code",
   "execution_count": null,
   "id": "12bd04ed-e5b4-47e3-babe-a5577155d7a2",
   "metadata": {},
   "outputs": [],
   "source": [
    "# 78. Create a NumPy array `array_a` of shape (4, 3) with sequential integers from 1 to 12. Extract a slice\n",
    "# `view_b` from `array_a` and broadcast the addition of 5 to view_b. Check if it alters the original `array_a`."
   ]
  },
  {
   "cell_type": "code",
   "execution_count": null,
   "id": "9bec239c-497b-41a2-a856-47573aee5266",
   "metadata": {},
   "outputs": [],
   "source": [
    "# 79. Create a NumPy array `orig_array` of shape (2, 4) with values from 1 to 8. Create a reshaped view `reshaped_view` of shape (4, 2) from \n",
    "# orig_array. Modify an element in `reshaped_view` and check if it reflects changes in the original `orig_array`."
   ]
  },
  {
   "cell_type": "code",
   "execution_count": null,
   "id": "f034980d-926b-4703-b267-e15fbfbdf120",
   "metadata": {},
   "outputs": [],
   "source": [
    "# 80. Create a NumPy array `data` of shape (3, 4) with random integers. Extract a copy `data_copy` of\n",
    "# elements greater than 5. Modify an element in `data_copy` and verify if it affects the original `data`."
   ]
  },
  {
   "cell_type": "code",
   "execution_count": null,
   "id": "902e7bf3-0aff-4588-b77a-fb1938a87a9d",
   "metadata": {},
   "outputs": [],
   "source": [
    "# 81. Create two matrices A and B of identical shape containing integers and perform addition and subtraction operations between them."
   ]
  },
  {
   "cell_type": "code",
   "execution_count": null,
   "id": "f3704649-00c4-4e12-979d-13bbb5c05d68",
   "metadata": {},
   "outputs": [],
   "source": [
    "# 82. Generate two matrices `C` (3x2) and `D` (2x4) and perform matrix multiplication."
   ]
  },
  {
   "cell_type": "code",
   "execution_count": null,
   "id": "26828257-4448-4be1-8b38-c2873d0b45c1",
   "metadata": {},
   "outputs": [],
   "source": [
    "# 83. Create a matrix `E` and find its transpose."
   ]
  },
  {
   "cell_type": "code",
   "execution_count": null,
   "id": "ca5ef569-7522-46ca-a7af-9068b0f5e93e",
   "metadata": {},
   "outputs": [],
   "source": [
    "# 84. Generate a square matrix `F` and compute its determinant."
   ]
  },
  {
   "cell_type": "code",
   "execution_count": null,
   "id": "5f17b183-90d3-4dec-bc3f-11d19deb4866",
   "metadata": {},
   "outputs": [],
   "source": [
    "# 85. Create a square matrix `G` and find its inverse."
   ]
  }
 ],
 "metadata": {
  "kernelspec": {
   "display_name": "Python 3 (ipykernel)",
   "language": "python",
   "name": "python3"
  },
  "language_info": {
   "codemirror_mode": {
    "name": "ipython",
    "version": 3
   },
   "file_extension": ".py",
   "mimetype": "text/x-python",
   "name": "python",
   "nbconvert_exporter": "python",
   "pygments_lexer": "ipython3",
   "version": "3.10.8"
  }
 },
 "nbformat": 4,
 "nbformat_minor": 5
}
